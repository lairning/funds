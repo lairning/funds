{
 "cells": [
  {
   "cell_type": "markdown",
   "metadata": {},
   "source": [
    "# Testing everything"
   ]
  },
  {
   "cell_type": "code",
   "execution_count": 1,
   "metadata": {},
   "outputs": [],
   "source": [
    "import pandas as pd\n",
    "from datetime import datetime\n",
    "from googlesearch import search\n",
    "import time"
   ]
  },
  {
   "cell_type": "code",
   "execution_count": 2,
   "metadata": {},
   "outputs": [],
   "source": [
    "fund_list_file = 'fundlist.txt'\n",
    "df = pd.read_csv(fund_list_file, sep='\\t',header=None,parse_dates=True,usecols=[1,3,4,8])\n",
    "df = df.rename(columns={1:'name',3:'currency',4:'category',8:'risk'})"
   ]
  },
  {
   "cell_type": "code",
   "execution_count": 3,
   "metadata": {},
   "outputs": [
    {
     "name": "stdout",
     "output_type": "stream",
     "text": [
      "104 LU1496042869:EUR 'Carmignac Pf Global Bond A EUR Acc' https://www.morningstar.pt/pt/funds/snapshot/snapshot.aspx?id=F00000YNLV\n",
      "105 IE00B7BTH691:USD 'Neuberger Berman Strat Inc A USD MD' https://www.morningstar.pt/pt/funds/snapshot/snapshot.aspx?id=F00000Q070\n",
      "106 LU0562246883:USD 'JPM Emerg Mkts Inv Grd Bd D (acc) USD' https://www.morningstar.pt/pt/funds/snapshot/snapshot.aspx?id=F00000ONDG\n",
      "107 ES0159201013:EUR 'March International Iberia A EUR' http://tools.morningstar.es/es/stockreport/default.aspx?tab=3&vw=story&SecurityToken=0P00007OUD%5D3%5D0%5DE0WWE%24%24ALL&Id=0P00007OUD&ClientFund=0&CurrencyId=EUR&story=LSE20180802070010_13740626\n",
      "108 LU1670725347:USD 'M&G (Lux) Optimal Income A H USD Acc' https://www.morningstar.pt/pt/funds/snapshot/snapshot.aspx?id=F000010L36\n",
      "109 LU0552385295:USD 'MS INVF Global Brands Eq Inc A' https://www.morningstar.es/es/news/31278/%C2%BFqui%C3%A9n-lo-hizo-mejor-en-renta-variable-en-2011.aspx\n",
      "110 IE00BH65QK91:EUR 'Vanguard Glbl Sh-Tm Bd Idx Inv EURH Acc' https://www.morningstar.pt/pt/funds/snapshot/snapshot.aspx?id=F00000T4PD\n",
      "111 LU0836875178:EUR 'M&G (Lux) Short Dtd Corp Bd A EUR Inc' https://www.morningstar.pt/pt/fundscreener/default.aspx?LanguageId=en-ZA\n",
      "112 LU1670718052:USD 'M&G (Lux) Short Dtd Corp Bd A EUR Acc' https://www.morningstar.pt/pt/funds/snapshot/snapshot.aspx?id=F000010L4Y\n",
      "113 LU0607983201:EUR 'Nordea 1 - Alpha 7 MA Fd E EUR' https://www.morningstar.pt/pt/funds/snapshot/snapshot.aspx?id=F00000O3UK\n",
      "114 LU0494093627:USD 'BGF ESG Multi-Asset E2 USD H' https://www.morningstar.pt/pt/funds/snapshot/snapshot.aspx?id=F00000H64D\n",
      "115 LU0823426720:USD 'BNP Paribas China Eq N C' https://www.morningstar.pt/pt/funds/snapshot/snapshot.aspx?id=F00000PXIE\n",
      "116 LU0106253270:USD 'Schroder ISF EM Dbt Abs Rt B Acc USD' https://www.morningstar.pt/pt/funds/snapshot/snapshot.aspx?id=F0GBR04AE3\n",
      "117 LU0080735201:USD 'Schroder ISF EM Dbt Abs Rt B Dis USD Q' https://www.morningstar.pt/pt/funds/snapshot/snapshot.aspx?id=F0GBR04ADX\n",
      "'M&G (Lux) Absolute Return Bond A EUR Inc' Not Found!\n",
      "'M&G (Lux) Absolute Return Bond A EUR Acc' Not Found!\n",
      "120 LU0337786437:USD 'MFS Meridian Prudent Wealth A1 USD' https://www.morningstar.pt/pt/news/210725/pr%C3%A9mios-morningstar-2021---os-melhores-fundos.aspx\n",
      "121 LU0117844612:USD 'JPM Asia Pacific Income D (acc) USD' http://www.morningstar.pt/pt/funds/snapshot/snapshot.aspx?id=F0GBR04MZU&tab=1\n",
      "HTTP Error 429: Too Many Requests\n",
      "line 122\n"
     ]
    }
   ],
   "source": [
    "def mysearch(search_str:str):\n",
    "    search_result = search(search_str, tld=\"com\", num=20, stop=20, pause=5)\n",
    "    return list(search_result)\n",
    "\n",
    "dfi = pd.read_csv('fund_symbols.csv')\n",
    "data = []\n",
    "try:\n",
    "    for i in range(122,400):\n",
    "        x = None\n",
    "        search_result = mysearch(df.loc[i]['name']+\" site:morningstar.pt\")\n",
    "        for url in search_result:\n",
    "            if url[:58] == \"https://www.morningstar.pt/pt/funds/snapshot/snapshot.aspx\":\n",
    "                url = url[:72]\n",
    "                x = pd.read_html(url)[3]\n",
    "        if x is None:\n",
    "            search_result = mysearch(df.loc[i]['name']+\" site:morningstar.es\")\n",
    "            for url in search_result:\n",
    "                if url[:58] == \"https://www.morningstar.es/es/funds/snapshot/snapshot.aspx\":\n",
    "                    url = url[:72]\n",
    "                    x = pd.read_html(url)[3]    \n",
    "        if x is None:\n",
    "            print(\"'{}' Not Found!\".format(df.loc[i]['name']))\n",
    "        else:\n",
    "            symbol = x.loc[4][2]+\":\"+x.loc[1][2][:3]\n",
    "            print(\"{} {} '{}' {}\".format(i, symbol,df.loc[i]['name'],url))\n",
    "            data.append((i, symbol,df.loc[i]['name'],df.loc[i]['currency'],df.loc[i]['risk'],df.loc[i]['category'],url))\n",
    "except Exception as e:\n",
    "    print(e)\n",
    "    print('line {}'.format(i))\n",
    "    \n",
    "dfd = pd.DataFrame(data=data,columns=['ID','symbol','name','currency','risk','category','url'])\n",
    "pd.concat([dfi,dfd]).to_csv('fund_symbols.csv',index=False)"
   ]
  }
 ],
 "metadata": {
  "kernelspec": {
   "display_name": "Python 3.7.11 ('fundos')",
   "language": "python",
   "name": "python3"
  },
  "language_info": {
   "codemirror_mode": {
    "name": "ipython",
    "version": 3
   },
   "file_extension": ".py",
   "mimetype": "text/x-python",
   "name": "python",
   "nbconvert_exporter": "python",
   "pygments_lexer": "ipython3",
   "version": "3.7.11"
  },
  "vscode": {
   "interpreter": {
    "hash": "f90dff59edd829b4e61129d1238da0864171710a405b0ec617ed93cf0f54b512"
   }
  }
 },
 "nbformat": 4,
 "nbformat_minor": 4
}
