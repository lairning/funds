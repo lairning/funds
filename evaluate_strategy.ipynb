{
 "cells": [
  {
   "cell_type": "code",
   "execution_count": 47,
   "metadata": {},
   "outputs": [],
   "source": [
    "import pandas as pd\n",
    "from datetime import datetime, timedelta, date\n",
    "import time\n",
    "import matplotlib.pyplot as plt\n",
    "from typing import List\n",
    "\n",
    "\n",
    "#Get the Exchange Rates\n",
    "exchange_rates_csv = 'exchange_rates.csv'\n",
    "exchange_rates = pd.read_csv(exchange_rates_csv ,sep=';',parse_dates=[0])\n",
    "exchange_rates['Date'] = exchange_rates['Date'].apply(lambda x: x.date())\n",
    "exchange_rates = exchange_rates.set_index('Date')['USD2EUR']\n",
    "exchange_rates.head()\n",
    "\n",
    "# Historical Quotes. The most updated start on 2023-08-04\n",
    "# Lets use 6 months for historical data\n",
    "quotes_start_date = date(2024, 3, 1)\n",
    "df_quotes = pd.read_csv(\"ft_quotes.csv\",index_col=0,parse_dates=True).sort_index(ascending=True).ffill().dropna(axis=1).loc[date(2023, 8, 4):]\n",
    "df_quotes.index = [x.date() for x in df_quotes.index]\n",
    "\n",
    "\n",
    "# Portofolio on Quotes Start Date\n",
    "initial_amount = 100\n",
    "encoding='latin_1'\n",
    "thousands = ','\n",
    "decimal = '.'\n",
    "to_date = lambda d: datetime.strptime(d, '%d-%m-%Y').date()\n",
    "transacoes_csv = 'transacoes.csv'\n",
    "converters={'Data de subscricao': to_date}\n",
    "df_transacoes = pd.read_csv(transacoes_csv ,sep=',',encoding=encoding,thousands=thousands, decimal=decimal, converters=converters, dtype={'Cotacao de Subscricao':float,'Quantidade':float})\n",
    "df_transacoes['Data de resgate'] = df_transacoes['Data de resgate'].apply(lambda x: datetime.strptime(x, '%d-%m-%Y').date() if pd.notnull(x) else x)\n",
    "df_transacoes = df_transacoes[df_transacoes['Code'].isin(df_quotes.columns)]\n",
    "filter = (df_transacoes['Data de subscricao']<=quotes_start_date) & ((pd.isnull(df_transacoes['Data de resgate'])) | (df_transacoes['Data de resgate']>quotes_start_date))\n",
    "df_transacoes = df_transacoes[filter]\n",
    "df_transacoes['Amount'] = df_transacoes.apply(lambda x: x['Quantidade']*df_quotes[x['Code']][quotes_start_date] * (exchange_rates.loc[quotes_start_date] if x['Moeda'] == 'USD' else 1), axis=1)\n",
    "df_portofolio = df_transacoes.groupby('Code')['Amount'].sum()\n",
    "df_portofolio = df_portofolio * initial_amount  / df_portofolio.sum()\n",
    "\n",
    "# Parameters\n",
    "risk_free_rate = 0.03\n",
    "\n",
    "amount_to_buy = 20\n",
    "amount_to_sell = 20\n",
    "final_portfolio_amount = initial_amount + amount_to_buy - amount_to_sell\n",
    "transaction_amount = 2\n",
    "\n",
    "n_funds_to_add = 5\n",
    "max_weight = 0.09"
   ]
  },
  {
   "cell_type": "code",
   "execution_count": 48,
   "metadata": {},
   "outputs": [
    {
     "data": {
      "text/plain": [
       "3063"
      ]
     },
     "execution_count": 48,
     "metadata": {},
     "output_type": "execute_result"
    }
   ],
   "source": [
    "# Select relevant funds\n",
    "df_perform = pd.read_csv(\"ft_funds_perform.csv\", index_col=0)\n",
    "relevant_funds = set(df_perform[df_perform['currency'].isin([\"EUR\",\"USD\"])].index)\n",
    "relevant_funds &= set([idx for idx in df_perform.index if not idx.startswith(\"PT\")])\n",
    "relevant_funds &= set(df_quotes.columns)\n",
    "\n",
    "len(relevant_funds)"
   ]
  },
  {
   "cell_type": "code",
   "execution_count": 49,
   "metadata": {},
   "outputs": [],
   "source": [
    "from pypfopt.expected_returns import mean_historical_return\n",
    "from pypfopt.risk_models import CovarianceShrinkage\n",
    "from pypfopt.efficient_frontier import EfficientFrontier\n",
    "from pypfopt import objective_functions"
   ]
  },
  {
   "cell_type": "code",
   "execution_count": 50,
   "metadata": {},
   "outputs": [],
   "source": [
    "#Optimization parameters\n",
    "transaction_limit = 1\n",
    "\n",
    "\n",
    "cov_n = 153\n"
   ]
  },
  {
   "cell_type": "markdown",
   "metadata": {},
   "source": [
    "### Portfolio Optimization Functions"
   ]
  },
  {
   "cell_type": "code",
   "execution_count": 51,
   "metadata": {},
   "outputs": [],
   "source": [
    "def new_fund_performance(new_portfolio, new_fund, amount=transaction_amount, risk_free_rate=risk_free_rate, last_n=15, goal='max_sharpe',target=None,weight_bounds = (0,1)):\n",
    "    if new_fund in new_portfolio.index:\n",
    "        new_portfolio.loc[new_fund] += amount\n",
    "    else:\n",
    "        new_portfolio.loc[new_fund] = amount\n",
    "\n",
    "    mu = mean_historical_return(df_quotes[new_portfolio.index][-last_n:])\n",
    "    S = CovarianceShrinkage(df_quotes[new_portfolio.index][-cov_n:]).ledoit_wolf()\n",
    "    ef = EfficientFrontier(mu, S, weight_bounds=weight_bounds, solver='SCS')\n",
    "    if goal=='max_sharpe':\n",
    "        ef.max_sharpe(risk_free_rate=risk_free_rate)\n",
    "    elif goal=='min_volatility':\n",
    "        ef.min_volatility()\n",
    "    elif goal=='efficient_risk':\n",
    "        ef.efficient_risk(target_volatility=target)\n",
    "    elif goal=='efficient_return':\n",
    "        ef.efficient_return(target_return=target)\n",
    "    else:\n",
    "        raise ValueError('Invalid Goal!')\n",
    "    return new_portfolio, ef.portfolio_performance(risk_free_rate=risk_free_rate)\n",
    "\n",
    "def new_funds_to_add(df_portofolio, selected_funds, n_funds_to_add, last_n, goal, target=None, verbose=False, weight_bounds = (0,1)):\n",
    "\n",
    "    mu = mean_historical_return(df_quotes[df_portofolio.index][-last_n:])\n",
    "    S = CovarianceShrinkage(df_quotes[df_portofolio.index][-cov_n:]).ledoit_wolf()\n",
    "\n",
    "    ef = EfficientFrontier(mu, S, solver='SCS')\n",
    "    weights = df_portofolio / df_portofolio.sum()\n",
    "    ef.set_weights(weights)\n",
    "\n",
    "    current_return, current_volatility, current_sharpe_ratio = ef.portfolio_performance(risk_free_rate=risk_free_rate)\n",
    "\n",
    "    max_sharpe = current_sharpe_ratio\n",
    "    min_volatility = current_volatility\n",
    "    amount = transaction_amount\n",
    "    funds_to_buy = []\n",
    "    performance = None\n",
    "\n",
    "    current_portfolio = df_portofolio.copy()\n",
    "    for i in range(n_funds_to_add):\n",
    "        best_fund = None\n",
    "        for new_fund in selected_funds:\n",
    "            try:\n",
    "                _, (new_return,new_volatility,new_sharpe) = new_fund_performance(\n",
    "                                                    new_portfolio=current_portfolio.copy(),\n",
    "                                                    new_fund=new_fund,\n",
    "                                                    last_n=last_n,\n",
    "                                                    goal=goal,\n",
    "                                                    target=target)\n",
    "                if ((goal == 'max_sharpe') or (goal == 'efficient_risk')) and (new_sharpe > max_sharpe):\n",
    "                    max_sharpe = new_sharpe\n",
    "                    best_fund = new_fund\n",
    "                if ((goal == 'min_volatility') or (goal == 'efficient_return')) and (new_volatility < min_volatility):\n",
    "                    min_volatility = new_volatility\n",
    "                    best_fund = new_fund\n",
    "            except Exception as e:\n",
    "                raise e\n",
    "                pass\n",
    "        \n",
    "        if best_fund is None:\n",
    "            print(\"\\nNo more Funds found!\")\n",
    "            break\n",
    "        else:\n",
    "            funds_to_buy.append(best_fund)\n",
    "            current_portfolio, performance = new_fund_performance(\n",
    "                new_portfolio=current_portfolio,\n",
    "                new_fund=best_fund,\n",
    "                last_n=last_n,\n",
    "                goal=goal,\n",
    "                target=target)\n",
    "            if verbose:\n",
    "                print(\"### Performance with \", best_fund)\n",
    "                print(df_perform.loc[best_fund][['ft category','name']])\n",
    "                print(performance)\n",
    "    return funds_to_buy, performance\n",
    "\n",
    "def portfolio_strategy(dfi, ef, prev_strategy=None):\n",
    "    cleaned_weights = ef.clean_weights()\n",
    "    cleaned_weights = [(s,w) for s,w in cleaned_weights.items()]\n",
    "    dfo = pd.DataFrame(cleaned_weights,columns=['Code','w']).sort_values(by='w',ascending=False)\n",
    "    df = pd.merge(dfi,dfo,on=['Code'],how='outer',suffixes=('_i','_o')).fillna(0)\n",
    "    if prev_strategy is not None:\n",
    "        df['strategy'] =  df.apply(lambda x: prev_strategy.loc[x['Code']]['strategy'], axis=1)\n",
    "    else:\n",
    "        df['strategy'] = 'c'\n",
    "    df['final_amount'] = df.apply(lambda x: x['amount'] if x['strategy']=='k' else x['w_o']*final_portfolio_amount, axis=1)\n",
    "    df['change_amount'] = df['final_amount'] - df['amount']\n",
    "\n",
    "    return df\n",
    "\n",
    "def valid_date(d: date) -> date:\n",
    "    if d in df_quotes.index:\n",
    "        return d\n",
    "    return max(dd for dd in df_quotes.index if dd <= d)\n",
    "\n",
    "def next_date(current_date: date, transaction_interval: int = 7) -> date:\n",
    "    return valid_date(current_date + timedelta(days=transaction_interval))\n",
    "\n",
    "def fund_selection_1(current_date: date) -> set:\n",
    "    old_date = valid_date(current_date - timedelta(days=14))\n",
    "    df_perform['2w'] = df_quotes.loc[current_date]/df_quotes.loc[old_date]\n",
    "    selected_funds = set(df_perform[df_perform.groupby('ft category')['2w'].transform('max')==df_perform['2w']].index)\n",
    "    selected_funds |= set(df_perform[df_perform['rating'] >= 5].index)\n",
    "    return selected_funds & relevant_funds\n",
    "\n",
    "def strategy_step(df_portofolio: pd.Series, current_date: date, fn_selection, last_n: int, new_date: date) -> pd.Series:\n",
    "    \n",
    "    mu = mean_historical_return(df_quotes[df_portofolio.index].loc[valid_date(current_date - timedelta(days=last_n)):current_date])\n",
    "    S = CovarianceShrinkage(df_quotes[df_portofolio.index].loc[valid_date(current_date - timedelta(days=cov_n)):current_date]).ledoit_wolf()\n",
    "    ef = EfficientFrontier(mu, S, solver='SCS')\n",
    "    weights = df_portofolio / df_portofolio.sum()\n",
    "    ef.set_weights(weights)\n",
    "    dfi = pd.DataFrame({'w':weights, 'amount':df_portofolio}).reset_index().sort_values(by='w',ascending=False)\n",
    "\n",
    "    new_portfolio = df_portofolio.copy()\n",
    "\n",
    "    funds_to_buy, performance = new_funds_to_add(\n",
    "        df_portofolio=new_portfolio,\n",
    "        selected_funds=fn_selection(current_date=current_date), \n",
    "        n_funds_to_add=n_funds_to_add,\n",
    "        last_n=last_n,\n",
    "        goal='max_sharpe',\n",
    "        verbose=False,\n",
    "        weight_bounds=(0,max_weight))\n",
    "\n",
    "    new_p = new_portfolio.index.append(pd.Index(funds_to_buy))\n",
    "\n",
    "    mu = mean_historical_return(df_quotes[new_p].loc[valid_date(current_date - timedelta(days=last_n)):current_date])\n",
    "    S = CovarianceShrinkage(df_quotes[new_p].loc[valid_date(current_date - timedelta(days=cov_n)):current_date]).ledoit_wolf()\n",
    "    ef = EfficientFrontier(mu, S, weight_bounds=(0,max_weight), solver='SCS')\n",
    "    ef.max_sharpe(risk_free_rate=risk_free_rate)\n",
    "\n",
    "    df = portfolio_strategy(dfi=dfi,ef=ef).set_index('Code')\n",
    "\n",
    "    weight_bounds = list()\n",
    "    buy_list = list()\n",
    "    for i, code in enumerate(df_quotes[new_p].columns):\n",
    "        if abs(df.loc[code]['change_amount']) < transaction_limit:\n",
    "            weight_bounds.append((df.loc[code]['w_i'],df.loc[code]['w_i'])) # Keep\n",
    "        elif df.loc[code]['change_amount'] >= 0.0:\n",
    "            weight_bounds.append((df.loc[code]['w_i'],max_weight)) # keep or buy\n",
    "        else:\n",
    "            weight_bounds.append((0.0,df.loc[code]['w_i'])) #keep or sell\n",
    "        if df.loc[code]['change_amount'] >= 0.0:\n",
    "            buy_list.append((i,df.loc[code]['w_i']))\n",
    "\n",
    "    mu = mean_historical_return(df_quotes[new_p].loc[valid_date(current_date - timedelta(days=last_n)):current_date])\n",
    "    S = CovarianceShrinkage(df_quotes[new_p].loc[valid_date(current_date - timedelta(days=cov_n)):current_date]).ledoit_wolf()\n",
    "    ef = EfficientFrontier(mu, S, weight_bounds=weight_bounds, solver='SCS')\n",
    "    # Limit the amount to buy\n",
    "    buy_final_w = (sum([w_i for _,w_i in buy_list])*initial_amount + amount_to_buy) / final_portfolio_amount\n",
    "    ef.add_constraint(lambda x : sum([x[i] for i,_ in buy_list]) == buy_final_w)\n",
    "    ef.max_sharpe(risk_free_rate=risk_free_rate)\n",
    "\n",
    "    df = portfolio_strategy(dfi=dfi,ef=ef).set_index('Code')\n",
    "    df['w_o'] = df.apply(lambda x: x['w_i'] if abs(x['change_amount'])<transaction_limit else x['w_o'], axis = 1)\n",
    "    r = 1- (df['w_o'].sum()-1) / df[(df['w_o']!=df['w_i'])]['w_o'].sum()\n",
    "    df['w_o'] = df.apply(lambda x: x['w_o']*(1 if x['w_o']==x['w_i'] else r) ,axis=1)\n",
    "\n",
    "    ds = df['w_o']*df['amount'].sum()\n",
    "    ds = ds[ds!=0]\n",
    "    ds.name = 'amount'\n",
    "\n",
    "    df = ds.reset_index()\n",
    "    df['new_amount'] = df.apply(lambda x: x['amount']*df_quotes[x['Code']][new_date]/df_quotes[x['Code']][current_date],axis=1)\n",
    "    \n",
    "    return df.set_index('Code')['new_amount']"
   ]
  },
  {
   "cell_type": "code",
   "execution_count": 52,
   "metadata": {},
   "outputs": [
    {
     "name": "stdout",
     "output_type": "stream",
     "text": [
      "2024-02-15\n",
      "2024-02-22\n",
      "2024-02-29\n",
      "2024-03-07\n",
      "2024-03-14\n",
      "2024-03-21\n",
      "2024-03-28\n",
      "2024-04-04\n",
      "2024-04-11\n",
      "2024-04-18\n",
      "2024-04-25\n"
     ]
    },
    {
     "data": {
      "text/plain": [
       "<Axes: xlabel='date'>"
      ]
     },
     "execution_count": 52,
     "metadata": {},
     "output_type": "execute_result"
    },
    {
     "data": {
      "image/png": "[encoded data removed]",
      "text/plain": [
       "<Figure size 640x480 with 1 Axes>"
      ]
     },
     "metadata": {},
     "output_type": "display_data"
    }
   ],
   "source": [
    "current_date = valid_date(d=quotes_start_date)\n",
    "new_date = next_date(current_date)\n",
    "value_lst = [(current_date,initial_amount)]\n",
    "df_prtf = df_portofolio\n",
    "\n",
    "while new_date < df_quotes.index.max():\n",
    "    print(current_date)\n",
    "    df_prtf = strategy_step(df_portofolio=df_prtf,current_date=current_date,fn_selection=fund_selection_1, last_n=21,new_date=new_date)\n",
    "    value_lst.append((new_date,df_prtf.sum()))\n",
    "    current_date = new_date\n",
    "    new_date = next_date(current_date)\n",
    "\n",
    "results_df = pd.DataFrame(data=value_lst,columns=['date','strategy0']).set_index('date')\n",
    "results_df.plot()"
   ]
  },
  {
   "cell_type": "code",
   "execution_count": 55,
   "metadata": {},
   "outputs": [],
   "source": [
    "def fund_selection_2(current_date: date) -> set:\n",
    "    old_date1 = valid_date(current_date - timedelta(days=14))\n",
    "    old_date2 = valid_date(current_date - timedelta(days=28))\n",
    "    df_perform['2w'] = (df_quotes.loc[current_date]/df_quotes.loc[old_date1])*2-(df_quotes.loc[current_date]/df_quotes.loc[old_date2])\n",
    "    selected_funds = set(df_perform[df_perform.groupby('ft category')['2w'].transform('max')==df_perform['2w']].index)\n",
    "    #selected_funds |= set(df_perform[df_perform['rating'] >= 5].index)\n",
    "    return selected_funds & relevant_funds"
   ]
  },
  {
   "cell_type": "code",
   "execution_count": 63,
   "metadata": {},
   "outputs": [
    {
     "data": {
      "text/plain": [
       "IE00BDRKSX26    0.019362\n",
       "IE00BLP5S460    0.000000\n",
       "LU0106235376    0.015943\n",
       "LU0173776047    0.002865\n",
       "LU0235843108    0.011777\n",
       "LU0329070915    0.102436\n",
       "LU0390137973    0.053686\n",
       "LU0414665884    0.028037\n",
       "LU0627762692    0.004838\n",
       "LU0705071453    0.005796\n",
       "LU0875418195   -0.002608\n",
       "LU1046234842    0.008985\n",
       "LU1161527038   -0.002296\n",
       "LU1176912761   -0.009057\n",
       "LU1244139660    0.041157\n",
       "LU1373035150    0.009579\n",
       "LU1495982271   -0.006891\n",
       "LU1508158513    0.022953\n",
       "LU1520759108   -0.019540\n",
       "LU1728556959    0.008902\n",
       "LU1735753946    0.003521\n",
       "LU1883334275    0.003837\n",
       "LU1915690918    0.006834\n",
       "dtype: float64"
      ]
     },
     "execution_count": 63,
     "metadata": {},
     "output_type": "execute_result"
    }
   ],
   "source": [
    "def my_mean_historical_return(fund_list, current_date):\n",
    "    return df_quotes[fund_list].loc[current_date] / df_quotes[fund_list].loc[valid_date(current_date - timedelta(days=21))] -1\n",
    "\n",
    "my_mean_historical_return(df_portofolio.index, valid_date(d=quotes_start_date))"
   ]
  },
  {
   "cell_type": "code",
   "execution_count": 67,
   "metadata": {},
   "outputs": [
    {
     "data": {
      "text/plain": [
       "IE00BDRKSX26    3.801253e-01\n",
       "IE00BLP5S460   -1.887379e-15\n",
       "LU0106235376    3.043787e-01\n",
       "LU0173776047    4.924274e-02\n",
       "LU0235843108    2.173745e-01\n",
       "LU0329070915    4.146777e+00\n",
       "LU0390137973    1.407396e+00\n",
       "LU0414665884    5.912748e-01\n",
       "LU0627762692    8.445293e-02\n",
       "LU0705071453    1.019673e-01\n",
       "LU0875418195   -4.291979e-02\n",
       "LU1046234842    1.621538e-01\n",
       "LU1161527038   -3.787355e-02\n",
       "LU1176912761   -1.417411e-01\n",
       "LU1244139660    9.691166e-01\n",
       "LU1373035150    1.736984e-01\n",
       "LU1495982271   -1.096767e-01\n",
       "LU1508158513    4.641237e-01\n",
       "LU1520759108   -2.821738e-01\n",
       "LU1728556959    1.605490e-01\n",
       "LU1735753946    6.082937e-02\n",
       "LU1883334275    6.645610e-02\n",
       "LU1915690918    1.212223e-01\n",
       "dtype: float64"
      ]
     },
     "execution_count": 67,
     "metadata": {},
     "output_type": "execute_result"
    }
   ],
   "source": [
    "prices = df_quotes[df_portofolio.index].loc[valid_date(current_date - timedelta(days=21)):current_date]\n",
    "returns = prices.pct_change().dropna(how=\"all\")\n",
    "(1 + returns).prod() ** (252 / returns.count()) - 1"
   ]
  },
  {
   "cell_type": "code",
   "execution_count": 62,
   "metadata": {},
   "outputs": [
    {
     "data": {
      "text/plain": [
       "IE00BDRKSX26    3.801253e-01\n",
       "IE00BLP5S460   -1.887379e-15\n",
       "LU0106235376    3.043787e-01\n",
       "LU0173776047    4.924274e-02\n",
       "LU0235843108    2.173745e-01\n",
       "LU0329070915    4.146777e+00\n",
       "LU0390137973    1.407396e+00\n",
       "LU0414665884    5.912748e-01\n",
       "LU0627762692    8.445293e-02\n",
       "LU0705071453    1.019673e-01\n",
       "LU0875418195   -4.291979e-02\n",
       "LU1046234842    1.621538e-01\n",
       "LU1161527038   -3.787355e-02\n",
       "LU1176912761   -1.417411e-01\n",
       "LU1244139660    9.691166e-01\n",
       "LU1373035150    1.736984e-01\n",
       "LU1495982271   -1.096767e-01\n",
       "LU1508158513    4.641237e-01\n",
       "LU1520759108   -2.821738e-01\n",
       "LU1728556959    1.605490e-01\n",
       "LU1735753946    6.082937e-02\n",
       "LU1883334275    6.645610e-02\n",
       "LU1915690918    1.212223e-01\n",
       "dtype: float64"
      ]
     },
     "execution_count": 62,
     "metadata": {},
     "output_type": "execute_result"
    }
   ],
   "source": [
    "current_date = valid_date(d=quotes_start_date)\n",
    "new_date = next_date(current_date)\n",
    "value_lst = [(current_date,initial_amount)]\n",
    "df_prtf = df_portofolio\n",
    "\n",
    "mean_historical_return(df_quotes[df_portofolio.index].loc[valid_date(current_date - timedelta(days=21)):current_date])\n"
   ]
  },
  {
   "cell_type": "code",
   "execution_count": 58,
   "metadata": {},
   "outputs": [
    {
     "data": {
      "text/plain": [
       "<Axes: xlabel='date'>"
      ]
     },
     "execution_count": 58,
     "metadata": {},
     "output_type": "execute_result"
    },
    {
     "data": {
      "image/png": "[encoded data removed]",
      "text/plain": [
       "<Figure size 640x480 with 1 Axes>"
      ]
     },
     "metadata": {},
     "output_type": "display_data"
    }
   ],
   "source": [
    "results_df.join(results1_df).plot()"
   ]
  }
 ],
 "metadata": {
  "kernelspec": {
   "display_name": "fundos",
   "language": "python",
   "name": "python3"
  },
  "language_info": {
   "codemirror_mode": {
    "name": "ipython",
    "version": 3
   },
   "file_extension": ".py",
   "mimetype": "text/x-python",
   "name": "python",
   "nbconvert_exporter": "python",
   "pygments_lexer": "ipython3",
   "version": "3.11.5"
  }
 },
 "nbformat": 4,
 "nbformat_minor": 2
}
