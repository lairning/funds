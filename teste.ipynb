{
 "cells": [
  {
   "cell_type": "markdown",
   "metadata": {},
   "source": [
    "# Testing everything"
   ]
  },
  {
   "cell_type": "code",
   "execution_count": 2,
   "metadata": {},
   "outputs": [],
   "source": [
    "%matplotlib inline\n",
    "import matplotlib.pyplot as plt\n",
    "import seaborn as sns; sns.set()\n",
    "import numpy as np"
   ]
  },
  {
   "cell_type": "code",
   "execution_count": 9,
   "metadata": {},
   "outputs": [],
   "source": [
    "def make_data(N, f=0.3, rseed=1):\n",
    "    rand = np.random.RandomState(rseed)\n",
    "    x = rand.randn(N)\n",
    "    x[int(f * N):] += 5\n",
    "    return x\n",
    "\n",
    "x = make_data(1000)"
   ]
  },
  {
   "cell_type": "code",
   "execution_count": 12,
   "metadata": {},
   "outputs": [
    {
     "data": {
      "text/plain": [
       "(array([0.00510565, 0.00765847, 0.01531695, 0.03829237, 0.06637345,\n",
       "        0.08169039, 0.12764124, 0.13274689, 0.10211299, 0.08679604,\n",
       "        0.04339802, 0.0306339 , 0.0306339 , 0.01786977, 0.04595085,\n",
       "        0.04850367, 0.08424322, 0.17614491, 0.24251836, 0.2986805 ,\n",
       "        0.23230706, 0.26038813, 0.19146186, 0.09445452, 0.0612678 ,\n",
       "        0.01786977, 0.00510565, 0.00255282, 0.00255282, 0.00255282]),\n",
       " array([-2.793085  , -2.40136208, -2.00963915, -1.61791623, -1.22619331,\n",
       "        -0.83447038, -0.44274746, -0.05102454,  0.34069839,  0.73242131,\n",
       "         1.12414423,  1.51586716,  1.90759008,  2.29931301,  2.69103593,\n",
       "         3.08275885,  3.47448178,  3.8662047 ,  4.25792762,  4.64965055,\n",
       "         5.04137347,  5.43309639,  5.82481932,  6.21654224,  6.60826516,\n",
       "         6.99998809,  7.39171101,  7.78343393,  8.17515686,  8.56687978,\n",
       "         8.9586027 ]),\n",
       " <BarContainer object of 30 artists>)"
      ]
     },
     "execution_count": 12,
     "metadata": {},
     "output_type": "execute_result"
    },
    {
     "data": {
      "image/png": "[encoded data removed]",
      "text/plain": [
       "<Figure size 432x288 with 1 Axes>"
      ]
     },
     "metadata": {},
     "output_type": "display_data"
    }
   ],
   "source": [
    "plt.hist(x, bins=30, density=True)"
   ]
  },
  {
   "cell_type": "code",
   "execution_count": 3,
   "metadata": {},
   "outputs": [
    {
     "data": {
      "text/plain": [
       "set"
      ]
     },
     "execution_count": 3,
     "metadata": {},
     "output_type": "execute_result"
    }
   ],
   "source": [
    "mu_coef = {'all':0.3,90:0.3,5:0.15,10:0.15,30:0.10}\n",
    "x = mu_coef.keys()-['all']\n"
   ]
  },
  {
   "cell_type": "code",
   "execution_count": 11,
   "metadata": {},
   "outputs": [],
   "source": [
    "import pandas as pd\n",
    "from datetime import datetime, timedelta\n",
    "xls = 'historico_cotacoes.xlsx'\n",
    "to_date = lambda d: datetime.strptime(d, '%Y-%m-%d')\n",
    "converters={'date': to_date}\n",
    "\n",
    "novo_dict_df = dict()\n",
    "\n",
    "dict_df = {key.strip():value for key,value in pd.read_excel(xls,sheet_name=None).items() if key != 'LU0122613903'}"
   ]
  },
  {
   "cell_type": "code",
   "execution_count": 12,
   "metadata": {},
   "outputs": [
    {
     "data": {
      "text/plain": [
       "datetime.date(2022, 9, 15)"
      ]
     },
     "execution_count": 12,
     "metadata": {},
     "output_type": "execute_result"
    }
   ],
   "source": [
    "start_date = max([df['Date'].min() for k,df in dict_df.items()]).date()\n",
    "end_date = min([df['Date'].max() for k,df in dict_df.items()]).date()"
   ]
  },
  {
   "cell_type": "code",
   "execution_count": 24,
   "metadata": {},
   "outputs": [],
   "source": [
    "\n",
    "df = pd.concat([df.set_index(keys='Date').rename(columns={'Close':key})[end_date:start_date] for key,df in dict_df.items()],axis=1).interpolate()\n",
    "df.to_csv('cotacoes.csv')\n",
    "\n"
   ]
  }
 ],
 "metadata": {
  "kernelspec": {
   "display_name": "Python 3.7.11 ('base')",
   "language": "python",
   "name": "python3"
  },
  "language_info": {
   "codemirror_mode": {
    "name": "ipython",
    "version": 3
   },
   "file_extension": ".py",
   "mimetype": "text/x-python",
   "name": "python",
   "nbconvert_exporter": "python",
   "pygments_lexer": "ipython3",
   "version": "3.7.11"
  },
  "vscode": {
   "interpreter": {
    "hash": "129e6a4a9d2d04a8ec7bc77fb672f6a31a1b5d7e0a7841675b6e8454154f5a3b"
   }
  }
 },
 "nbformat": 4,
 "nbformat_minor": 4
}
