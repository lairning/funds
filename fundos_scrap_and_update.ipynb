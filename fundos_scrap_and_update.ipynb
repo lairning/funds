{
 "cells": [
  {
   "cell_type": "markdown",
   "metadata": {},
   "source": [
    "# Finantial Times Scraping"
   ]
  },
  {
   "cell_type": "markdown",
   "metadata": {},
   "source": [
    "### Inicializações"
   ]
  },
  {
   "cell_type": "code",
   "execution_count": 4,
   "metadata": {},
   "outputs": [],
   "source": [
    "import pandas as pd\n",
    "from datetime import datetime, timedelta"
   ]
  },
  {
   "cell_type": "markdown",
   "metadata": {},
   "source": [
    "### Scrapping Exchange Rates from www.exchangerates.org.uk"
   ]
  },
  {
   "cell_type": "code",
   "execution_count": 5,
   "metadata": {},
   "outputs": [],
   "source": [
    "url = 'http://www.exchangerates.org.uk/USD-EUR-exchange-rate-history.html'\n",
    "csv = 'exchange_rates.csv'\n",
    "#csv = 'D:\\Personal\\Python\\Fundos\\exchange_rates.csv'\n",
    "\n",
    "df = pd.read_html(url, skiprows=[0,1,182])[0][[0,1]].rename(columns={0:'Date',1:'USD2EUR'})\n",
    "df['Date'] = df['Date'].apply(lambda x: pd.to_datetime(x, infer_datetime_format = True).date())\n",
    "df['USD2EUR'] = df['USD2EUR'].apply(lambda x: float(x[8:15]))\n",
    "df.set_index('Date',inplace=True)\n",
    "\n",
    "df_historic_usd2eur = pd.read_csv(csv,sep=';',parse_dates=True)\n",
    "df_historic_usd2eur['Date'] = df_historic_usd2eur['Date'].apply(lambda x: pd.to_datetime(x, infer_datetime_format = True).date())\n",
    "df_historic_usd2eur.set_index('Date',inplace=True)\n",
    "\n",
    "df_historic_usd2eur = pd.concat([df.loc[:max(df_historic_usd2eur.index)][:-1],df_historic_usd2eur])\n",
    "df_historic_usd2eur.to_csv(csv,sep=';')"
   ]
  },
  {
   "cell_type": "markdown",
   "metadata": {},
   "source": [
    "### Update Portofolio From Transactions"
   ]
  },
  {
   "cell_type": "code",
   "execution_count": 6,
   "metadata": {},
   "outputs": [
    {
     "data": {
      "text/html": [
       "<div>\n",
       "<style scoped>\n",
       "    .dataframe tbody tr th:only-of-type {\n",
       "        vertical-align: middle;\n",
       "    }\n",
       "\n",
       "    .dataframe tbody tr th {\n",
       "        vertical-align: top;\n",
       "    }\n",
       "\n",
       "    .dataframe thead th {\n",
       "        text-align: right;\n",
       "    }\n",
       "</style>\n",
       "<table border=\"1\" class=\"dataframe\">\n",
       "  <thead>\n",
       "    <tr style=\"text-align: right;\">\n",
       "      <th></th>\n",
       "      <th>Code</th>\n",
       "      <th>Nome</th>\n",
       "      <th>Moeda</th>\n",
       "      <th>Quantidade</th>\n",
       "    </tr>\n",
       "  </thead>\n",
       "  <tbody>\n",
       "    <tr>\n",
       "      <th>4</th>\n",
       "      <td>LU0171309270</td>\n",
       "      <td>BGF Healthscience E2 EUR</td>\n",
       "      <td>EUR</td>\n",
       "      <td>76.8300</td>\n",
       "    </tr>\n",
       "    <tr>\n",
       "      <th>5</th>\n",
       "      <td>LU0171310955</td>\n",
       "      <td>BGF Wor Techn EUR E</td>\n",
       "      <td>EUR</td>\n",
       "      <td>30.2400</td>\n",
       "    </tr>\n",
       "    <tr>\n",
       "      <th>8</th>\n",
       "      <td>LU0355585513</td>\n",
       "      <td>JPF Africa Equity D</td>\n",
       "      <td>EUR</td>\n",
       "      <td>14.7020</td>\n",
       "    </tr>\n",
       "    <tr>\n",
       "      <th>0</th>\n",
       "      <td>IE00BLP5S353</td>\n",
       "      <td>Jupiter Glb Abs Rt</td>\n",
       "      <td>USD</td>\n",
       "      <td>15864.5900</td>\n",
       "    </tr>\n",
       "    <tr>\n",
       "      <th>1</th>\n",
       "      <td>LU0094557526</td>\n",
       "      <td>MFS European Research A1 EUR</td>\n",
       "      <td>EUR</td>\n",
       "      <td>23.6460</td>\n",
       "    </tr>\n",
       "    <tr>\n",
       "      <th>2</th>\n",
       "      <td>LU0121204431</td>\n",
       "      <td>NN Glb Sustain Eq</td>\n",
       "      <td>EUR</td>\n",
       "      <td>9.0650</td>\n",
       "    </tr>\n",
       "    <tr>\n",
       "      <th>9</th>\n",
       "      <td>PTSQUGHM0007</td>\n",
       "      <td>Property Core Real Estate</td>\n",
       "      <td>EUR</td>\n",
       "      <td>1901.7213</td>\n",
       "    </tr>\n",
       "    <tr>\n",
       "      <th>7</th>\n",
       "      <td>LU0248173006</td>\n",
       "      <td>SIC Asia B accum EUR</td>\n",
       "      <td>EUR</td>\n",
       "      <td>105.4200</td>\n",
       "    </tr>\n",
       "    <tr>\n",
       "      <th>6</th>\n",
       "      <td>LU0244354824</td>\n",
       "      <td>SIC China opp B USD</td>\n",
       "      <td>USD</td>\n",
       "      <td>7.9000</td>\n",
       "    </tr>\n",
       "    <tr>\n",
       "      <th>3</th>\n",
       "      <td>LU0122613903</td>\n",
       "      <td>T Eastern Europe</td>\n",
       "      <td>EUR</td>\n",
       "      <td>32.1960</td>\n",
       "    </tr>\n",
       "  </tbody>\n",
       "</table>\n",
       "</div>"
      ],
      "text/plain": [
       "           Code                          Nome Moeda  Quantidade\n",
       "4  LU0171309270      BGF Healthscience E2 EUR   EUR     76.8300\n",
       "5  LU0171310955           BGF Wor Techn EUR E   EUR     30.2400\n",
       "8  LU0355585513           JPF Africa Equity D   EUR     14.7020\n",
       "0  IE00BLP5S353            Jupiter Glb Abs Rt   USD  15864.5900\n",
       "1  LU0094557526  MFS European Research A1 EUR   EUR     23.6460\n",
       "2  LU0121204431             NN Glb Sustain Eq   EUR      9.0650\n",
       "9  PTSQUGHM0007     Property Core Real Estate   EUR   1901.7213\n",
       "7  LU0248173006          SIC Asia B accum EUR   EUR    105.4200\n",
       "6  LU0244354824           SIC China opp B USD   USD      7.9000\n",
       "3  LU0122613903              T Eastern Europe   EUR     32.1960"
      ]
     },
     "execution_count": 6,
     "metadata": {},
     "output_type": "execute_result"
    }
   ],
   "source": [
    "#transacoes_csv = 'D:\\\\Personal\\\\Python\\\\Fundos\\\\transacoes.csv'\n",
    "transacoes_csv = 'transacoes.csv'\n",
    "\n",
    "encoding='latin_1'\n",
    "thousands = ','\n",
    "decimal = '.'\n",
    "to_date = lambda d: datetime.strptime(d, '%d-%m-%Y')\n",
    "converters={'Data de subscrição': to_date}\n",
    "\n",
    "portfolio_csv = 'portofolio.csv'\n",
    "df_portofolio = pd.read_csv(transacoes_csv ,sep=',',encoding=encoding,thousands=thousands, decimal=decimal, converters=converters)\n",
    "df_portofolio = df_portofolio[pd.isnull(df_portofolio['Data de resgate'])].groupby(['Code','Nome','Moeda'])['Quantidade'].sum().reset_index()\n",
    "df_portofolio.to_csv(portfolio_csv,sep=';',index=False)\n",
    "df_portofolio.sort_values(by='Nome')"
   ]
  },
  {
   "cell_type": "markdown",
   "metadata": {},
   "source": [
    "### Update with any downloaded data\n",
    "### Update wiht scrapping Quotes from FT "
   ]
  },
  {
   "cell_type": "code",
   "execution_count": 7,
   "metadata": {},
   "outputs": [
    {
     "name": "stdout",
     "output_type": "stream",
     "text": [
      "Warning: Invalid https://markets.ft.com/data/funds/tearsheet/historical?s=LU0122613903:EUR\n",
      "Warning: Invalid https://markets.ft.com/data/funds/tearsheet/historical?s=LU0171309270:EUR\n",
      "Warning: Invalid https://markets.ft.com/data/funds/tearsheet/historical?s=LU0171310955:EUR\n",
      "Warning: Invalid https://markets.ft.com/data/funds/tearsheet/historical?s=PTSQUGHM0007:EUR\n"
     ]
    }
   ],
   "source": [
    "url = 'https://markets.ft.com/data/funds/tearsheet/historical?s={}:{}'\n",
    "xls = 'historico_cotacoes.xlsx'\n",
    "to_date = lambda d: datetime.strptime(d, '%Y-%m-%d')\n",
    "converters={'date': to_date}\n",
    "\n",
    "novo_dict_df = dict()\n",
    "\n",
    "dict_df = {key.strip():value for key,value in pd.read_excel(xls,sheet_name=None).items()}\n",
    "\n",
    "for symbol, df in dict_df.items():\n",
    "    if symbol in df_portofolio['Code'].tolist():\n",
    "        dict_df[symbol]['Date'] = dict_df[symbol]['Date'].apply(lambda x: x.date())\n",
    "        novo_dict_df[symbol] = dict_df[symbol].set_index('Date',drop=True).sort_index(ascending=False)\n",
    "    \n",
    "\n",
    "for symbol, _, currency, _ in df_portofolio.itertuples(index=False):\n",
    "\n",
    "    # try to get data from a csv dwoloaded from Morningstar\n",
    "    try:\n",
    "        path = '.\\\\cotacoes_morningstar\\\\{}.csv'.format(symbol)\n",
    "        df = pd.read_csv(path ,sep=';',encoding=encoding,thousands=thousands, decimal=decimal, converters=converters)[['date','price']]\n",
    "        df['date'] = df['date'].apply(lambda x: x.date())\n",
    "        df = df.set_index('date',drop=True).sort_index(ascending=False).rename(columns={'price':'Close'})\n",
    "        df.index.rename('Date',inplace=True)\n",
    "        if symbol in dict_df.keys():\n",
    "            novo_dict_df[symbol] = pd.concat([novo_dict_df[symbol], df.loc[df.index.difference(novo_dict_df[symbol].index)]]).sort_index(ascending=False)\n",
    "        else:\n",
    "            novo_dict_df[symbol] = df\n",
    "    except:\n",
    "        print(\"Warning: No \"+path)\n",
    "\n",
    "    # try to data from FT\n",
    "    try:\n",
    "        url = 'https://markets.ft.com/data/funds/tearsheet/historical?s={}:{}'.format(symbol,currency)\n",
    "        df = pd.read_html(url)[0]\n",
    "        df['Date'] = df['Date'].apply(lambda x: x[:-17]).apply(lambda x: pd.to_datetime(x, infer_datetime_format = True).date())\n",
    "        df = df.set_index('Date',drop=True)[['Close']]\n",
    "        novo_dict_df[symbol] = pd.concat([novo_dict_df[symbol], df.loc[df.index.difference(novo_dict_df[symbol].index)]]).sort_index(ascending=False)\n",
    "    except:\n",
    "        print(\"Warning: Invalid \"+url)\n",
    "        "
   ]
  },
  {
   "cell_type": "code",
   "execution_count": 8,
   "metadata": {},
   "outputs": [],
   "source": [
    "with pd.ExcelWriter(xls, engine=\"openpyxl\") as writer:\n",
    "    for symbol, df in novo_dict_df.items():\n",
    "        df.to_excel(writer, sheet_name=symbol)\n"
   ]
  },
  {
   "cell_type": "code",
   "execution_count": null,
   "metadata": {},
   "outputs": [],
   "source": []
  }
 ],
 "metadata": {
  "interpreter": {
   "hash": "129e6a4a9d2d04a8ec7bc77fb672f6a31a1b5d7e0a7841675b6e8454154f5a3b"
  },
  "kernelspec": {
   "display_name": "Python 3.7.11 ('base')",
   "language": "python",
   "name": "python3"
  },
  "language_info": {
   "codemirror_mode": {
    "name": "ipython",
    "version": 3
   },
   "file_extension": ".py",
   "mimetype": "text/x-python",
   "name": "python",
   "nbconvert_exporter": "python",
   "pygments_lexer": "ipython3",
   "version": "3.7.11"
  }
 },
 "nbformat": 4,
 "nbformat_minor": 4
}
