{
 "cells": [
  {
   "cell_type": "markdown",
   "metadata": {},
   "source": [
    "# Finantial Times Scraping"
   ]
  },
  {
   "cell_type": "markdown",
   "metadata": {},
   "source": [
    "### Inicializações"
   ]
  },
  {
   "cell_type": "code",
   "execution_count": 6,
   "metadata": {},
   "outputs": [],
   "source": [
    "import pandas as pd\n",
    "from datetime import datetime"
   ]
  },
  {
   "cell_type": "markdown",
   "metadata": {},
   "source": [
    "### Scrapping Exchange Rates from www.exchangerates.org.uk"
   ]
  },
  {
   "cell_type": "code",
   "execution_count": 7,
   "metadata": {},
   "outputs": [],
   "source": [
    "url = 'http://www.exchangerates.org.uk/USD-EUR-exchange-rate-history.html'\n",
    "csv = 'D:\\Personal\\Python\\Fundos\\exchange_rates.csv'\n",
    "\n",
    "df = pd.read_html(url, skiprows=[0,1,182])[0][[0,1]].rename(columns={0:'Date',1:'USD2EUR'})\n",
    "df['Date'] = df['Date'].apply(lambda x: pd.to_datetime(x, infer_datetime_format = True).date())\n",
    "df['USD2EUR'] = df['USD2EUR'].apply(lambda x: float(x[8:15]))\n",
    "df.set_index('Date',inplace=True)\n",
    "\n",
    "df_historic_usd2eur = pd.read_csv(csv,sep=';',parse_dates=True)\n",
    "df_historic_usd2eur['Date'] = df_historic_usd2eur['Date'].apply(lambda x: pd.to_datetime(x, infer_datetime_format = True).date())\n",
    "df_historic_usd2eur.set_index('Date',inplace=True)\n",
    "\n",
    "df_historic_usd2eur = pd.concat([df.loc[:max(df_historic_usd2eur.index)][:-1],df_historic_usd2eur])\n",
    "df_historic_usd2eur.to_csv(csv,sep=';')"
   ]
  },
  {
   "cell_type": "markdown",
   "metadata": {},
   "source": [
    "### Update Portofolio From Transactions"
   ]
  },
  {
   "cell_type": "code",
   "execution_count": 8,
   "metadata": {},
   "outputs": [],
   "source": [
    "transacoes_csv = 'D:\\\\Personal\\\\Python\\\\Fundos\\\\transacoes.csv'\n",
    "\n",
    "encoding='latin_1'\n",
    "thousands = ','\n",
    "decimal = '.'\n",
    "to_date = lambda d: datetime.strptime(d, '%d-%m-%Y')\n",
    "converters={'Data de subscrição': to_date}\n",
    "\n",
    "portfolio_csv = 'D:\\\\Personal\\\\Python\\\\Fundos\\\\portofolio.csv'\n",
    "df_portofolio = pd.read_csv(transacoes_csv ,sep=';',encoding=encoding,thousands=thousands, decimal=decimal, converters=converters)\n",
    "df_portofolio = df_portofolio[pd.isnull(df_portofolio['Data de resgate'])].groupby(['Code','Nome','Moeda'])['Quantidade'].sum().reset_index()\n",
    "df_portofolio.to_csv(portfolio_csv,sep=';',index=False)"
   ]
  },
  {
   "cell_type": "markdown",
   "metadata": {},
   "source": [
    "### Scrapping Quotes from FT"
   ]
  },
  {
   "cell_type": "code",
   "execution_count": 9,
   "metadata": {},
   "outputs": [],
   "source": [
    "url = 'https://markets.ft.com/data/funds/tearsheet/historical?s={}:{}'\n",
    "xls = 'D:\\Personal\\Python\\Fundos\\historico_cotacoes.xlsx'\n",
    "\n",
    "novo_dict_df = dict()\n",
    "writer = pd.ExcelWriter(xls)\n",
    "\n",
    "dict_df = {key.strip():value for key,value in pd.read_excel(xls,sheet_name=None).items()}\n",
    "\n",
    "for symbol, _, currency, _ in df_portofolio.itertuples(index=False):\n",
    "    try: # Get data from FT\n",
    "        url = 'https://markets.ft.com/data/funds/tearsheet/historical?s={}:{}'.format(symbol,currency)\n",
    "        df = pd.read_html(url)[0]\n",
    "        df['Date'] = df['Date'].apply(lambda x: x[:-17]).apply(lambda x: pd.to_datetime(x, infer_datetime_format = True).date())\n",
    "        df.set_index('Date',drop=True, inplace=True)\n",
    "    except: # Get it from a csv dwoloaded from Morningstar\n",
    "        path = 'D:\\\\Personal\\\\Python\\\\Fundos\\\\cotacoes_morningstar\\\\{}.csv'.format(symbol)\n",
    "        to_date = lambda d: datetime.strptime(d, '%Y-%m-%d')\n",
    "        converters={'date': to_date}\n",
    "        df = pd.read_csv(path ,sep=';',encoding=encoding,thousands=thousands, decimal=decimal, converters=converters)[['date','price']]\n",
    "        df['date'] = df['date'].apply(lambda x: x.date())\n",
    "        df = df.set_index('date',drop=True).sort_index(ascending=False).rename(columns={'price':'Close'})\n",
    "        df.index.rename('Date',inplace=True)\n",
    "\n",
    "    if symbol in dict_df.keys():\n",
    "        dict_df[symbol]['Date'] = dict_df[symbol].apply(lambda x: pd.to_datetime(x['Date'], infer_datetime_format = True).date(), axis=1)\n",
    "        dict_df[symbol].set_index('Date',drop=True, inplace=True)\n",
    "        if df is not None:\n",
    "            novo_dict_df[symbol] = pd.concat([df,dict_df[symbol][min(df.index):].iloc[1:]])\n",
    "        else:\n",
    "            print(symbol, 'Not Found in FT')\n",
    "            novo_dict_df[symbol] = dict_df[symbol][:].iloc[1:]\n",
    "    else:\n",
    "        novo_dict_df[symbol] = df\n",
    "\n"
   ]
  },
  {
   "cell_type": "code",
   "execution_count": 10,
   "metadata": {},
   "outputs": [],
   "source": [
    "for symbol, sheet in novo_dict_df.items():\n",
    "    sheet.to_excel(writer, sheet_name=symbol)\n",
    "writer.save()"
   ]
  },
  {
   "cell_type": "code",
   "execution_count": null,
   "metadata": {},
   "outputs": [],
   "source": []
  }
 ],
 "metadata": {
  "kernelspec": {
   "display_name": "Python 3",
   "language": "python",
   "name": "python3"
  },
  "language_info": {
   "codemirror_mode": {
    "name": "ipython",
    "version": 3
   },
   "file_extension": ".py",
   "mimetype": "text/x-python",
   "name": "python",
   "nbconvert_exporter": "python",
   "pygments_lexer": "ipython3",
   "version": "3.7.3"
  }
 },
 "nbformat": 4,
 "nbformat_minor": 4
}
