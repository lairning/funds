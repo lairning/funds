{
 "cells": [
  {
   "cell_type": "markdown",
   "metadata": {},
   "source": [
    "# Testing everything"
   ]
  },
  {
   "cell_type": "code",
   "execution_count": 1,
   "metadata": {},
   "outputs": [],
   "source": [
    "import pandas as pd\n",
    "from datetime import datetime\n",
    "from googlesearch import search\n",
    "import time"
   ]
  },
  {
   "cell_type": "code",
   "execution_count": 2,
   "metadata": {},
   "outputs": [],
   "source": [
    "fund_list_file = 'fundlist.txt'\n",
    "df = pd.read_csv(fund_list_file, sep='\\t',header=None,parse_dates=True,usecols=[1,3,4,8])\n",
    "df = df.rename(columns={1:'name',3:'currency',4:'category',8:'risk'})"
   ]
  },
  {
   "cell_type": "code",
   "execution_count": 3,
   "metadata": {},
   "outputs": [
    {
     "name": "stdout",
     "output_type": "stream",
     "text": [
      "Searching for:  Fidelity Emerging Mkts Foc A-Acc-USD\n",
      "['https://www.morningstar.pt/pt/funds/snapshot/snapshot.aspx?id=F00000UFI4']\n",
      "list index out of range\n",
      "line 391\n"
     ]
    }
   ],
   "source": [
    "def mysearch(search_str:str):\n",
    "    search_result = search(search_str, tld=\"com\", num=20, stop=20, pause=5)\n",
    "    return list(search_result)\n",
    "\n",
    "dfi = pd.read_csv('fund_symbols.csv')\n",
    "data = []\n",
    "try:\n",
    "    for i in range(391,400):\n",
    "        x = None\n",
    "        try:\n",
    "            print(\"Searching for: \",df.loc[i]['name'])\n",
    "            search_result = mysearch(df.loc[i]['name']+\" site:morningstar.pt\")\n",
    "            print(search_result)\n",
    "        except Exception as e:\n",
    "            print(\"Search Failed\")\n",
    "            raise e\n",
    "        for url in search_result:\n",
    "            if url[:58] == \"https://www.morningstar.pt/pt/funds/snapshot/snapshot.aspx\":\n",
    "                url = url[:72]\n",
    "                x = pd.read_html(url)[3]\n",
    "                break\n",
    "        if x is None:\n",
    "            search_result = mysearch(df.loc[i]['name']+\" site:morningstar.es\")\n",
    "            print(search_result)\n",
    "            for url in search_result:\n",
    "                if url[:58] == \"https://www.morningstar.es/es/funds/snapshot/snapshot.aspx\":\n",
    "                    url = url[:72]\n",
    "                    x = pd.read_html(url)[3]\n",
    "                    break\n",
    "        if x is None:\n",
    "            print(\"'{}' Not Found!\".format(df.loc[i]['name']))\n",
    "        else:\n",
    "            symbol = x.loc[4][2]+\":\"+x.loc[1][2][:3]\n",
    "            print(\"{} {} '{}' {}\".format(i, symbol,df.loc[i]['name'],url))\n",
    "            data.append((i, symbol,df.loc[i]['name'],df.loc[i]['currency'],df.loc[i]['risk'],df.loc[i]['category'],url))\n",
    "except Exception as e:\n",
    "    print(e)\n",
    "    print('line {}'.format(i))\n",
    "    \n",
    "dfd = pd.DataFrame(data=data,columns=['ID','symbol','name','currency','risk','category','url'])\n",
    "pd.concat([dfi,dfd]).to_csv('fund_symbols.csv',index=False)"
   ]
  }
 ],
 "metadata": {
  "kernelspec": {
   "display_name": "Python 3.7.11 ('fundos')",
   "language": "python",
   "name": "python3"
  },
  "language_info": {
   "codemirror_mode": {
    "name": "ipython",
    "version": 3
   },
   "file_extension": ".py",
   "mimetype": "text/x-python",
   "name": "python",
   "nbconvert_exporter": "python",
   "pygments_lexer": "ipython3",
   "version": "3.7.11"
  },
  "vscode": {
   "interpreter": {
    "hash": "f90dff59edd829b4e61129d1238da0864171710a405b0ec617ed93cf0f54b512"
   }
  }
 },
 "nbformat": 4,
 "nbformat_minor": 4
}
