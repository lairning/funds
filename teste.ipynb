{
 "cells": [
  {
   "cell_type": "markdown",
   "metadata": {},
   "source": [
    "# Testing everything"
   ]
  },
  {
   "cell_type": "code",
   "execution_count": 1,
   "metadata": {},
   "outputs": [],
   "source": [
    "import pandas as pd\n",
    "from datetime import datetime"
   ]
  },
  {
   "cell_type": "code",
   "execution_count": 2,
   "metadata": {},
   "outputs": [],
   "source": [
    "fund_list_file = 'fundlist.txt'"
   ]
  },
  {
   "cell_type": "code",
   "execution_count": 4,
   "metadata": {},
   "outputs": [],
   "source": [
    "df = pd.read_csv(fund_list_file, sep='\\t',header=None,parse_dates=True,usecols=[1,3,4,8]).rename(columns={1:'name',3:'currency',4:'category',8:'risk'})"
   ]
  },
  {
   "cell_type": "code",
   "execution_count": 9,
   "metadata": {},
   "outputs": [
    {
     "data": {
      "text/html": [
       "<div>\n",
       "<style scoped>\n",
       "    .dataframe tbody tr th:only-of-type {\n",
       "        vertical-align: middle;\n",
       "    }\n",
       "\n",
       "    .dataframe tbody tr th {\n",
       "        vertical-align: top;\n",
       "    }\n",
       "\n",
       "    .dataframe thead th {\n",
       "        text-align: right;\n",
       "    }\n",
       "</style>\n",
       "<table border=\"1\" class=\"dataframe\">\n",
       "  <thead>\n",
       "    <tr style=\"text-align: right;\">\n",
       "      <th></th>\n",
       "      <th>name</th>\n",
       "      <th>currency</th>\n",
       "      <th>category</th>\n",
       "      <th>risk</th>\n",
       "    </tr>\n",
       "  </thead>\n",
       "  <tbody>\n",
       "    <tr>\n",
       "      <th>0</th>\n",
       "      <td>HSBC GIF Turkey Equity EC</td>\n",
       "      <td>EUR</td>\n",
       "      <td>Ações Turquia</td>\n",
       "      <td>7</td>\n",
       "    </tr>\n",
       "    <tr>\n",
       "      <th>1</th>\n",
       "      <td>Schroder ISF China Opps B Acc USD</td>\n",
       "      <td>USD</td>\n",
       "      <td>Ações China</td>\n",
       "      <td>6</td>\n",
       "    </tr>\n",
       "    <tr>\n",
       "      <th>2</th>\n",
       "      <td>T. Rowe Price Dyn Glb Bd A USD</td>\n",
       "      <td>USD</td>\n",
       "      <td>Obrigações Flexível Globais</td>\n",
       "      <td>4</td>\n",
       "    </tr>\n",
       "    <tr>\n",
       "      <th>3</th>\n",
       "      <td>JPM China D (acc) USD</td>\n",
       "      <td>USD</td>\n",
       "      <td>Ações China</td>\n",
       "      <td>7</td>\n",
       "    </tr>\n",
       "    <tr>\n",
       "      <th>4</th>\n",
       "      <td>JPM China D (acc) EUR</td>\n",
       "      <td>EUR</td>\n",
       "      <td>Ações China</td>\n",
       "      <td>6</td>\n",
       "    </tr>\n",
       "    <tr>\n",
       "      <th>...</th>\n",
       "      <td>...</td>\n",
       "      <td>...</td>\n",
       "      <td>...</td>\n",
       "      <td>...</td>\n",
       "    </tr>\n",
       "    <tr>\n",
       "      <th>395</th>\n",
       "      <td>RAM (Lux) Sys Emg Mkts Equities OP EUR</td>\n",
       "      <td>EUR</td>\n",
       "      <td>Ações Emergentes Global</td>\n",
       "      <td>5</td>\n",
       "    </tr>\n",
       "    <tr>\n",
       "      <th>396</th>\n",
       "      <td>RAM (Lux) Sys Emg Mkts Equities FP USD</td>\n",
       "      <td>USD</td>\n",
       "      <td>Ações Emergentes Global</td>\n",
       "      <td>6</td>\n",
       "    </tr>\n",
       "    <tr>\n",
       "      <th>397</th>\n",
       "      <td>Fidelity Emerging Mkts Foc A-Dis-EUR</td>\n",
       "      <td>EUR</td>\n",
       "      <td>Ações Emergentes Global</td>\n",
       "      <td>6</td>\n",
       "    </tr>\n",
       "    <tr>\n",
       "      <th>398</th>\n",
       "      <td>BlueBay Glbl Inv Grd Corp Bd R EUR</td>\n",
       "      <td>EUR</td>\n",
       "      <td>Obrigações Corp. Globais - EUR Hedged</td>\n",
       "      <td>4</td>\n",
       "    </tr>\n",
       "    <tr>\n",
       "      <th>399</th>\n",
       "      <td>BGF European Equity Income E5G EUR</td>\n",
       "      <td>EUR</td>\n",
       "      <td>Ações Europa</td>\n",
       "      <td>6</td>\n",
       "    </tr>\n",
       "  </tbody>\n",
       "</table>\n",
       "<p>400 rows × 4 columns</p>\n",
       "</div>"
      ],
      "text/plain": [
       "                                       name currency  \\\n",
       "0                 HSBC GIF Turkey Equity EC      EUR   \n",
       "1         Schroder ISF China Opps B Acc USD      USD   \n",
       "2            T. Rowe Price Dyn Glb Bd A USD      USD   \n",
       "3                     JPM China D (acc) USD      USD   \n",
       "4                     JPM China D (acc) EUR      EUR   \n",
       "..                                      ...      ...   \n",
       "395  RAM (Lux) Sys Emg Mkts Equities OP EUR      EUR   \n",
       "396  RAM (Lux) Sys Emg Mkts Equities FP USD      USD   \n",
       "397    Fidelity Emerging Mkts Foc A-Dis-EUR      EUR   \n",
       "398      BlueBay Glbl Inv Grd Corp Bd R EUR      EUR   \n",
       "399      BGF European Equity Income E5G EUR      EUR   \n",
       "\n",
       "                                  category  risk  \n",
       "0                            Ações Turquia     7  \n",
       "1                              Ações China     6  \n",
       "2              Obrigações Flexível Globais     4  \n",
       "3                              Ações China     7  \n",
       "4                              Ações China     6  \n",
       "..                                     ...   ...  \n",
       "395                Ações Emergentes Global     5  \n",
       "396                Ações Emergentes Global     6  \n",
       "397                Ações Emergentes Global     6  \n",
       "398  Obrigações Corp. Globais - EUR Hedged     4  \n",
       "399                           Ações Europa     6  \n",
       "\n",
       "[400 rows x 4 columns]"
      ]
     },
     "execution_count": 9,
     "metadata": {},
     "output_type": "execute_result"
    }
   ],
   "source": [
    "tuple(df.iloc[0].to_list())"
   ]
  }
 ],
 "metadata": {
  "kernelspec": {
   "display_name": "Python 3.7.11 ('base')",
   "language": "python",
   "name": "python3"
  },
  "language_info": {
   "codemirror_mode": {
    "name": "ipython",
    "version": 3
   },
   "file_extension": ".py",
   "mimetype": "text/x-python",
   "name": "python",
   "nbconvert_exporter": "python",
   "pygments_lexer": "ipython3",
   "version": "3.7.11"
  },
  "vscode": {
   "interpreter": {
    "hash": "129e6a4a9d2d04a8ec7bc77fb672f6a31a1b5d7e0a7841675b6e8454154f5a3b"
   }
  }
 },
 "nbformat": 4,
 "nbformat_minor": 4
}
