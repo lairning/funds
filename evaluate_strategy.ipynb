{
 "cells": [
  {
   "cell_type": "code",
   "execution_count": 15,
   "metadata": {},
   "outputs": [],
   "source": [
    "import pandas as pd\n",
    "from datetime import datetime, timedelta, date\n",
    "import time\n",
    "import matplotlib.pyplot as plt\n",
    "from typing import List\n",
    "\n",
    "\n",
    "#Get the Exchange Rates\n",
    "exchange_rates_csv = 'exchange_rates.csv'\n",
    "exchange_rates = pd.read_csv(exchange_rates_csv ,sep=';',parse_dates=[0])\n",
    "exchange_rates['Date'] = exchange_rates['Date'].apply(lambda x: x.date())\n",
    "exchange_rates = exchange_rates.set_index('Date')['USD2EUR']\n",
    "exchange_rates.head()\n",
    "\n",
    "# Historical Quotes. The most updated start on 2023-08-04\n",
    "# Lets use 6 months for historical data\n",
    "quotes_start_date = date(2024, 3, 1)\n",
    "df_quotes = pd.read_csv(\"ft_quotes.csv\",index_col=0,parse_dates=True).sort_index(ascending=True).ffill().dropna(axis=1).loc[date(2023, 8, 4):]\n",
    "df_quotes.index = [x.date() for x in df_quotes.index]\n",
    "\n",
    "\n",
    "# Portofolio on Quotes Start Date\n",
    "initial_amount = 100\n",
    "encoding='latin_1'\n",
    "thousands = ','\n",
    "decimal = '.'\n",
    "to_date = lambda d: datetime.strptime(d, '%d-%m-%Y').date()\n",
    "transacoes_csv = 'transacoes.csv'\n",
    "converters={'Data de subscricao': to_date}\n",
    "df_transacoes = pd.read_csv(transacoes_csv ,sep=',',encoding=encoding,thousands=thousands, decimal=decimal, converters=converters, dtype={'Cotacao de Subscricao':float,'Quantidade':float})\n",
    "df_transacoes['Data de resgate'] = df_transacoes['Data de resgate'].apply(lambda x: datetime.strptime(x, '%d-%m-%Y').date() if pd.notnull(x) else x)\n",
    "df_transacoes = df_transacoes[df_transacoes['Code'].isin(df_quotes.columns)]\n",
    "filter = (df_transacoes['Data de subscricao']<=quotes_start_date) & ((pd.isnull(df_transacoes['Data de resgate'])) | (df_transacoes['Data de resgate']>quotes_start_date))\n",
    "df_transacoes = df_transacoes[filter]\n",
    "df_transacoes['Amount'] = df_transacoes.apply(lambda x: x['Quantidade']*df_quotes[x['Code']][quotes_start_date] * (exchange_rates.loc[quotes_start_date] if x['Moeda'] == 'USD' else 1), axis=1)\n",
    "df_portofolio = df_transacoes.groupby('Code')['Amount'].sum()\n",
    "df_portofolio = df_portofolio * initial_amount  / df_portofolio.sum()\n",
    "\n",
    "# Parameters\n",
    "risk_free_rate = 0.03\n",
    "\n",
    "amount_to_buy = 20\n",
    "amount_to_sell = 20\n",
    "final_portfolio_amount = initial_amount + amount_to_buy - amount_to_sell\n",
    "transaction_amount = 2\n",
    "\n",
    "n_funds_to_add = 5\n",
    "max_weight = 0.09"
   ]
  },
  {
   "cell_type": "code",
   "execution_count": 16,
   "metadata": {},
   "outputs": [
    {
     "data": {
      "text/plain": [
       "3063"
      ]
     },
     "execution_count": 16,
     "metadata": {},
     "output_type": "execute_result"
    }
   ],
   "source": [
    "# Select relevant funds\n",
    "df_perform = pd.read_csv(\"ft_funds_perform.csv\", index_col=0)\n",
    "relevant_funds = set(df_perform[df_perform['currency'].isin([\"EUR\",\"USD\"])].index)\n",
    "relevant_funds &= set([idx for idx in df_perform.index if not idx.startswith(\"PT\")])\n",
    "relevant_funds &= set(df_quotes.columns)\n",
    "\n",
    "len(relevant_funds)"
   ]
  },
  {
   "cell_type": "code",
   "execution_count": 17,
   "metadata": {},
   "outputs": [],
   "source": [
    "from pypfopt.expected_returns import mean_historical_return,ema_historical_return\n",
    "from pypfopt.risk_models import CovarianceShrinkage\n",
    "from pypfopt.efficient_frontier import EfficientFrontier\n",
    "from pypfopt import objective_functions"
   ]
  },
  {
   "cell_type": "code",
   "execution_count": 18,
   "metadata": {},
   "outputs": [],
   "source": [
    "#Optimization parameters\n",
    "transaction_limit = 1\n",
    "\n",
    "\n",
    "cov_n = 153\n"
   ]
  },
  {
   "cell_type": "markdown",
   "metadata": {},
   "source": [
    "### Portfolio Optimization Functions"
   ]
  },
  {
   "cell_type": "code",
   "execution_count": 19,
   "metadata": {},
   "outputs": [],
   "source": [
    "def new_fund_performance(new_portfolio, new_fund, amount=transaction_amount, risk_free_rate=risk_free_rate, last_n=15, goal='max_sharpe',target=None,weight_bounds = (0,1)):\n",
    "    if new_fund in new_portfolio.index:\n",
    "        new_portfolio.loc[new_fund] += amount\n",
    "    else:\n",
    "        new_portfolio.loc[new_fund] = amount\n",
    "\n",
    "    mu = mean_historical_return(df_quotes[new_portfolio.index][-last_n:])\n",
    "    S = CovarianceShrinkage(df_quotes[new_portfolio.index][-cov_n:]).ledoit_wolf()\n",
    "    ef = EfficientFrontier(mu, S, weight_bounds=weight_bounds, solver='SCS')\n",
    "    if goal=='max_sharpe':\n",
    "        ef.max_sharpe(risk_free_rate=risk_free_rate)\n",
    "    elif goal=='min_volatility':\n",
    "        ef.min_volatility()\n",
    "    elif goal=='efficient_risk':\n",
    "        ef.efficient_risk(target_volatility=target)\n",
    "    elif goal=='efficient_return':\n",
    "        ef.efficient_return(target_return=target)\n",
    "    else:\n",
    "        raise ValueError('Invalid Goal!')\n",
    "    return new_portfolio, ef.portfolio_performance(risk_free_rate=risk_free_rate)\n",
    "\n",
    "def new_funds_to_add(df_portofolio, selected_funds, n_funds_to_add, last_n, goal, target=None, verbose=False, weight_bounds = (0,1)):\n",
    "\n",
    "    mu = mean_historical_return(df_quotes[df_portofolio.index][-last_n:])\n",
    "    S = CovarianceShrinkage(df_quotes[df_portofolio.index][-cov_n:]).ledoit_wolf()\n",
    "\n",
    "    ef = EfficientFrontier(mu, S, solver='SCS')\n",
    "    weights = df_portofolio / df_portofolio.sum()\n",
    "    ef.set_weights(weights)\n",
    "\n",
    "    current_return, current_volatility, current_sharpe_ratio = ef.portfolio_performance(risk_free_rate=risk_free_rate)\n",
    "\n",
    "    max_sharpe = current_sharpe_ratio\n",
    "    min_volatility = current_volatility\n",
    "    amount = transaction_amount\n",
    "    funds_to_buy = []\n",
    "    performance = None\n",
    "\n",
    "    current_portfolio = df_portofolio.copy()\n",
    "    for i in range(n_funds_to_add):\n",
    "        best_fund = None\n",
    "        for new_fund in selected_funds:\n",
    "            try:\n",
    "                _, (new_return,new_volatility,new_sharpe) = new_fund_performance(\n",
    "                                                    new_portfolio=current_portfolio.copy(),\n",
    "                                                    new_fund=new_fund,\n",
    "                                                    last_n=last_n,\n",
    "                                                    goal=goal,\n",
    "                                                    target=target)\n",
    "                if ((goal == 'max_sharpe') or (goal == 'efficient_risk')) and (new_sharpe > max_sharpe):\n",
    "                    max_sharpe = new_sharpe\n",
    "                    best_fund = new_fund\n",
    "                if ((goal == 'min_volatility') or (goal == 'efficient_return')) and (new_volatility < min_volatility):\n",
    "                    min_volatility = new_volatility\n",
    "                    best_fund = new_fund\n",
    "            except Exception as e:\n",
    "                raise e\n",
    "                pass\n",
    "        \n",
    "        if best_fund is None:\n",
    "            print(\"\\nNo more Funds found!\")\n",
    "            break\n",
    "        else:\n",
    "            funds_to_buy.append(best_fund)\n",
    "            current_portfolio, performance = new_fund_performance(\n",
    "                new_portfolio=current_portfolio,\n",
    "                new_fund=best_fund,\n",
    "                last_n=last_n,\n",
    "                goal=goal,\n",
    "                target=target)\n",
    "            if verbose:\n",
    "                print(\"### Performance with \", best_fund)\n",
    "                print(df_perform.loc[best_fund][['ft category','name']])\n",
    "                print(performance)\n",
    "    return funds_to_buy, performance\n",
    "\n",
    "def portfolio_strategy(dfi, ef, prev_strategy=None):\n",
    "    cleaned_weights = ef.clean_weights()\n",
    "    cleaned_weights = [(s,w) for s,w in cleaned_weights.items()]\n",
    "    dfo = pd.DataFrame(cleaned_weights,columns=['Code','w']).sort_values(by='w',ascending=False)\n",
    "    df = pd.merge(dfi,dfo,on=['Code'],how='outer',suffixes=('_i','_o')).fillna(0)\n",
    "    if prev_strategy is not None:\n",
    "        df['strategy'] =  df.apply(lambda x: prev_strategy.loc[x['Code']]['strategy'], axis=1)\n",
    "    else:\n",
    "        df['strategy'] = 'c'\n",
    "    df['final_amount'] = df.apply(lambda x: x['amount'] if x['strategy']=='k' else x['w_o']*final_portfolio_amount, axis=1)\n",
    "    df['change_amount'] = df['final_amount'] - df['amount']\n",
    "\n",
    "    return df\n",
    "\n",
    "def valid_date(d: date) -> date:\n",
    "    if d in df_quotes.index:\n",
    "        return d\n",
    "    return max(dd for dd in df_quotes.index if dd <= d)\n",
    "\n",
    "def next_date(current_date: date, transaction_interval: int = 7) -> date:\n",
    "    return valid_date(current_date + timedelta(days=transaction_interval))\n",
    "\n",
    "def fund_selection_1(df_portofolio: pd.Series,current_date: date) -> set:\n",
    "    old_date = valid_date(current_date - timedelta(days=14))\n",
    "    df_perform['2w'] = df_quotes.loc[current_date]/df_quotes.loc[old_date]\n",
    "    selected_funds = set(df_perform[df_perform.groupby('ft category')['2w'].transform('max')==df_perform['2w']].index)\n",
    "    selected_funds |= set(df_perform[df_perform['rating'] >= 5].index)\n",
    "    selected_funds -= set(df_portofolio.index)\n",
    "    return selected_funds & relevant_funds\n",
    "\n",
    "def my_ef(df_portofolio: pd.Series, current_date: date, last_n: int):\n",
    "    mu = mean_historical_return(df_quotes[df_portofolio].loc[valid_date(current_date - timedelta(days=last_n)):current_date])\n",
    "    S = CovarianceShrinkage(df_quotes[df_portofolio].loc[valid_date(current_date - timedelta(days=cov_n)):current_date]).ledoit_wolf()\n",
    "    return mu, S\n",
    "\n",
    "def strategy_step(df_portofolio: pd.Series, current_date: date, fn_selection, last_n: int, new_date: date, ef_fn) -> pd.Series:\n",
    "    \n",
    "    mu, S = ef_fn(df_portofolio=df_portofolio.index,current_date=current_date,last_n=last_n)\n",
    "    ef = EfficientFrontier(mu, S, solver='SCS')\n",
    "    weights = df_portofolio / df_portofolio.sum()\n",
    "    ef.set_weights(weights)\n",
    "    dfi = pd.DataFrame({'w':weights, 'amount':df_portofolio}).reset_index().sort_values(by='w',ascending=False)\n",
    "\n",
    "    new_portfolio = df_portofolio.copy()\n",
    "\n",
    "    funds_to_buy, performance = new_funds_to_add(\n",
    "        df_portofolio=new_portfolio,\n",
    "        selected_funds=fn_selection(df_portofolio=new_portfolio,current_date=current_date), \n",
    "        n_funds_to_add=n_funds_to_add,\n",
    "        last_n=last_n,\n",
    "        goal='max_sharpe',\n",
    "        verbose=False,\n",
    "        weight_bounds=(0,max_weight))\n",
    "\n",
    "    new_p = new_portfolio.index.append(pd.Index(funds_to_buy))\n",
    "\n",
    "    mu, S = ef_fn(df_portofolio=new_p,current_date=current_date,last_n=last_n)\n",
    "    ef = EfficientFrontier(mu, S, weight_bounds=(0,max_weight), solver='SCS')\n",
    "    ef.max_sharpe(risk_free_rate=risk_free_rate)\n",
    "\n",
    "    df = portfolio_strategy(dfi=dfi,ef=ef).set_index('Code')\n",
    "\n",
    "    weight_bounds = list()\n",
    "    buy_list = list()\n",
    "    for i, code in enumerate(df_quotes[new_p].columns):\n",
    "        if abs(df.loc[code]['change_amount']) < transaction_limit:\n",
    "            weight_bounds.append((df.loc[code]['w_i'],df.loc[code]['w_i'])) # Keep\n",
    "        elif df.loc[code]['change_amount'] >= 0.0:\n",
    "            weight_bounds.append((df.loc[code]['w_i'],max_weight)) # keep or buy\n",
    "        else:\n",
    "            weight_bounds.append((0.0,df.loc[code]['w_i'])) #keep or sell\n",
    "        if df.loc[code]['change_amount'] >= 0.0:\n",
    "            buy_list.append((i,df.loc[code]['w_i']))\n",
    "\n",
    "    mu, S = ef_fn(df_portofolio=new_p,current_date=current_date,last_n=last_n)\n",
    "    ef = EfficientFrontier(mu, S, weight_bounds=weight_bounds, solver='SCS')\n",
    "    # Limit the amount to buy\n",
    "    buy_final_w = (sum([w_i for _,w_i in buy_list])*initial_amount + amount_to_buy) / final_portfolio_amount\n",
    "    ef.add_constraint(lambda x : sum([x[i] for i,_ in buy_list]) == buy_final_w)\n",
    "    try:\n",
    "        ef.max_sharpe(risk_free_rate=risk_free_rate)\n",
    "    except Exception as e:\n",
    "        ef = EfficientFrontier(mu, S, weight_bounds=weight_bounds, solver='SCS')\n",
    "        ef.max_sharpe(risk_free_rate=risk_free_rate)\n",
    "\n",
    "    df = portfolio_strategy(dfi=dfi,ef=ef).set_index('Code')\n",
    "    df['w_o'] = df.apply(lambda x: x['w_i'] if abs(x['change_amount'])<transaction_limit else x['w_o'], axis = 1)\n",
    "    r = 1- (df['w_o'].sum()-1) / df[(df['w_o']!=df['w_i'])]['w_o'].sum()\n",
    "    df['w_o'] = df.apply(lambda x: x['w_o']*(1 if x['w_o']==x['w_i'] else r) ,axis=1)\n",
    "\n",
    "    ds = df['w_o']*df['amount'].sum()\n",
    "    ds = ds[ds!=0]\n",
    "    ds.name = 'amount'\n",
    "\n",
    "    df = ds.reset_index()\n",
    "    df['new_amount'] = df.apply(lambda x: x['amount']*df_quotes[x['Code']][new_date]/df_quotes[x['Code']][current_date],axis=1)\n",
    "    \n",
    "    return df.set_index('Code')['new_amount']"
   ]
  },
  {
   "cell_type": "code",
   "execution_count": 20,
   "metadata": {},
   "outputs": [
    {
     "name": "stdout",
     "output_type": "stream",
     "text": [
      "2024-03-01\n",
      "2024-03-08\n",
      "2024-03-15\n",
      "2024-03-22\n",
      "2024-03-29\n",
      "2024-04-05\n",
      "2024-04-12\n",
      "2024-04-19\n",
      "2024-04-26\n",
      "2024-05-03\n"
     ]
    }
   ],
   "source": [
    "current_date = valid_date(d=quotes_start_date)\n",
    "new_date = next_date(current_date)\n",
    "value_lst = [(current_date,initial_amount)]\n",
    "df_prtf = df_portofolio\n",
    "\n",
    "while new_date < df_quotes.index.max():\n",
    "    print(current_date)\n",
    "    df_prtf = strategy_step(df_portofolio=df_prtf,current_date=current_date,fn_selection=fund_selection_1, last_n=21,new_date=new_date,ef_fn=my_ef)\n",
    "    value_lst.append((new_date,df_prtf.sum()))\n",
    "    current_date = new_date\n",
    "    new_date = next_date(current_date)\n",
    "\n",
    "results_df = pd.DataFrame(data=value_lst,columns=['date','strategy1']).set_index('date')\n"
   ]
  },
  {
   "cell_type": "code",
   "execution_count": 23,
   "metadata": {},
   "outputs": [
    {
     "data": {
      "text/html": [
       "<div>\n",
       "<style scoped>\n",
       "    .dataframe tbody tr th:only-of-type {\n",
       "        vertical-align: middle;\n",
       "    }\n",
       "\n",
       "    .dataframe tbody tr th {\n",
       "        vertical-align: top;\n",
       "    }\n",
       "\n",
       "    .dataframe thead th {\n",
       "        text-align: right;\n",
       "    }\n",
       "</style>\n",
       "<table border=\"1\" class=\"dataframe\">\n",
       "  <thead>\n",
       "    <tr style=\"text-align: right;\">\n",
       "      <th></th>\n",
       "      <th>strategy1</th>\n",
       "    </tr>\n",
       "    <tr>\n",
       "      <th>date</th>\n",
       "      <th></th>\n",
       "    </tr>\n",
       "  </thead>\n",
       "  <tbody>\n",
       "    <tr>\n",
       "      <th>2024-03-01</th>\n",
       "      <td>100.000000</td>\n",
       "    </tr>\n",
       "    <tr>\n",
       "      <th>2024-03-08</th>\n",
       "      <td>100.363655</td>\n",
       "    </tr>\n",
       "    <tr>\n",
       "      <th>2024-03-15</th>\n",
       "      <td>100.718597</td>\n",
       "    </tr>\n",
       "    <tr>\n",
       "      <th>2024-03-22</th>\n",
       "      <td>101.092363</td>\n",
       "    </tr>\n",
       "    <tr>\n",
       "      <th>2024-03-29</th>\n",
       "      <td>101.265933</td>\n",
       "    </tr>\n",
       "    <tr>\n",
       "      <th>2024-04-05</th>\n",
       "      <td>101.424937</td>\n",
       "    </tr>\n",
       "    <tr>\n",
       "      <th>2024-04-12</th>\n",
       "      <td>101.442186</td>\n",
       "    </tr>\n",
       "    <tr>\n",
       "      <th>2024-04-19</th>\n",
       "      <td>101.188828</td>\n",
       "    </tr>\n",
       "    <tr>\n",
       "      <th>2024-04-26</th>\n",
       "      <td>101.258985</td>\n",
       "    </tr>\n",
       "    <tr>\n",
       "      <th>2024-05-03</th>\n",
       "      <td>101.372468</td>\n",
       "    </tr>\n",
       "    <tr>\n",
       "      <th>2024-05-10</th>\n",
       "      <td>101.436546</td>\n",
       "    </tr>\n",
       "  </tbody>\n",
       "</table>\n",
       "</div>"
      ],
      "text/plain": [
       "             strategy1\n",
       "date                  \n",
       "2024-03-01  100.000000\n",
       "2024-03-08  100.363655\n",
       "2024-03-15  100.718597\n",
       "2024-03-22  101.092363\n",
       "2024-03-29  101.265933\n",
       "2024-04-05  101.424937\n",
       "2024-04-12  101.442186\n",
       "2024-04-19  101.188828\n",
       "2024-04-26  101.258985\n",
       "2024-05-03  101.372468\n",
       "2024-05-10  101.436546"
      ]
     },
     "execution_count": 23,
     "metadata": {},
     "output_type": "execute_result"
    }
   ],
   "source": [
    "results_df"
   ]
  },
  {
   "cell_type": "code",
   "execution_count": 27,
   "metadata": {},
   "outputs": [],
   "source": [
    "def fund_selection_2(df_portofolio: pd.Series,current_date: date) -> set:\n",
    "    old_date = valid_date(current_date - timedelta(days=14))\n",
    "    df_perform['2w'] = df_quotes.loc[current_date]/df_quotes.loc[old_date]\n",
    "    selected_funds = set(df_perform[df_perform.groupby('ft category')['2w'].transform('max')==df_perform['2w']].index)\n",
    "    selected_funds -= set(df_perform[df_perform['2w']<0].index)\n",
    "    selected_funds |= set(df_perform[df_perform['rating'] >= 5].index)\n",
    "    #selected_funds -= set(df_portofolio.index)\n",
    "    return selected_funds & relevant_funds\n",
    "\n"
   ]
  },
  {
   "cell_type": "code",
   "execution_count": 47,
   "metadata": {},
   "outputs": [
    {
     "name": "stdout",
     "output_type": "stream",
     "text": [
      "2024-03-01\n",
      "2024-03-08\n",
      "2024-03-15\n",
      "2024-03-22\n",
      "2024-03-29\n",
      "2024-04-05\n",
      "2024-04-12\n",
      "2024-04-19\n",
      "2024-04-26\n",
      "2024-05-03\n"
     ]
    },
    {
     "data": {
      "text/plain": [
       "<Axes: xlabel='date'>"
      ]
     },
     "execution_count": 47,
     "metadata": {},
     "output_type": "execute_result"
    },
    {
     "data": {
      "image/png": "[encoded data removed]",
      "text/plain": [
       "<Figure size 640x480 with 1 Axes>"
      ]
     },
     "metadata": {},
     "output_type": "display_data"
    }
   ],
   "source": [
    "def my_ef_2(df_portofolio: pd.Series, current_date: date, last_n: int):\n",
    "    mu = ema_historical_return(df_quotes[df_portofolio].loc[valid_date(current_date - timedelta(days=last_n)):current_date],span=13)\n",
    "    S = CovarianceShrinkage(df_quotes[df_portofolio].loc[valid_date(current_date - timedelta(days=cov_n)):current_date]).ledoit_wolf()\n",
    "    return mu, S\n",
    "\n",
    "current_date = valid_date(d=quotes_start_date)\n",
    "new_date = next_date(current_date)\n",
    "value_lst = [(current_date,initial_amount)]\n",
    "df_prtf = df_portofolio\n",
    "\n",
    "while new_date < df_quotes.index.max():\n",
    "    print(current_date)\n",
    "    df_prtf = strategy_step(df_portofolio=df_prtf,current_date=current_date,fn_selection=fund_selection_1, last_n=44,new_date=new_date,ef_fn=my_ef_2)\n",
    "    value_lst.append((new_date,df_prtf.sum()))\n",
    "    current_date = new_date\n",
    "    new_date = next_date(current_date)\n",
    "\n",
    "results_df = results_df.join(pd.DataFrame(data=value_lst,columns=['date','strategy_13_44']).set_index('date'))\n",
    "results_df.plot()"
   ]
  },
  {
   "cell_type": "code",
   "execution_count": 1,
   "metadata": {},
   "outputs": [
    {
     "ename": "NameError",
     "evalue": "name 'results_df' is not defined",
     "output_type": "error",
     "traceback": [
      "\u001b[1;31m---------------------------------------------------------------------------\u001b[0m",
      "\u001b[1;31mNameError\u001b[0m                                 Traceback (most recent call last)",
      "Cell \u001b[1;32mIn[1], line 1\u001b[0m\n\u001b[1;32m----> 1\u001b[0m results_df\n",
      "\u001b[1;31mNameError\u001b[0m: name 'results_df' is not defined"
     ]
    }
   ],
   "source": [
    "results_df"
   ]
  },
  {
   "cell_type": "code",
   "execution_count": 26,
   "metadata": {},
   "outputs": [],
   "source": [
    "def my_ef_3(df_portofolio: pd.Series, current_date: date, last_n: int):\n",
    "    mu = ema_historical_return(df_quotes[df_portofolio].loc[valid_date(current_date - timedelta(days=last_n)):current_date],span=30)\n",
    "    S = CovarianceShrinkage(df_quotes[df_portofolio].loc[valid_date(current_date - timedelta(days=cov_n)):current_date]).ledoit_wolf()\n",
    "    return mu, S"
   ]
  },
  {
   "cell_type": "code",
   "execution_count": 27,
   "metadata": {},
   "outputs": [
    {
     "name": "stdout",
     "output_type": "stream",
     "text": [
      "2024-03-01\n",
      "2024-03-08\n",
      "2024-03-15\n",
      "2024-03-22\n",
      "2024-03-29\n",
      "2024-04-05\n",
      "2024-04-12\n",
      "2024-04-19\n",
      "2024-04-26\n"
     ]
    },
    {
     "ename": "ValueError",
     "evalue": "columns overlap but no suffix specified: Index(['strategy3'], dtype='object')",
     "output_type": "error",
     "traceback": [
      "\u001b[1;31m---------------------------------------------------------------------------\u001b[0m",
      "\u001b[1;31mValueError\u001b[0m                                Traceback (most recent call last)",
      "Cell \u001b[1;32mIn[27], line 13\u001b[0m\n\u001b[0;32m     10\u001b[0m     current_date \u001b[38;5;241m=\u001b[39m new_date\n\u001b[0;32m     11\u001b[0m     new_date \u001b[38;5;241m=\u001b[39m next_date(current_date)\n\u001b[1;32m---> 13\u001b[0m results_df \u001b[38;5;241m=\u001b[39m results_df\u001b[38;5;241m.\u001b[39mjoin(pd\u001b[38;5;241m.\u001b[39mDataFrame(data\u001b[38;5;241m=\u001b[39mvalue_lst,columns\u001b[38;5;241m=\u001b[39m[\u001b[38;5;124m'\u001b[39m\u001b[38;5;124mdate\u001b[39m\u001b[38;5;124m'\u001b[39m,\u001b[38;5;124m'\u001b[39m\u001b[38;5;124mstrategy3\u001b[39m\u001b[38;5;124m'\u001b[39m])\u001b[38;5;241m.\u001b[39mset_index(\u001b[38;5;124m'\u001b[39m\u001b[38;5;124mdate\u001b[39m\u001b[38;5;124m'\u001b[39m))\n\u001b[0;32m     14\u001b[0m results_df\u001b[38;5;241m.\u001b[39mplot()\n",
      "File \u001b[1;32mc:\\MyPrograms\\miniconda3\\envs\\fundos\\Lib\\site-packages\\pandas\\core\\frame.py:10415\u001b[0m, in \u001b[0;36mDataFrame.join\u001b[1;34m(self, other, on, how, lsuffix, rsuffix, sort, validate)\u001b[0m\n\u001b[0;32m  10405\u001b[0m     \u001b[38;5;28;01mif\u001b[39;00m how \u001b[38;5;241m==\u001b[39m \u001b[38;5;124m\"\u001b[39m\u001b[38;5;124mcross\u001b[39m\u001b[38;5;124m\"\u001b[39m:\n\u001b[0;32m  10406\u001b[0m         \u001b[38;5;28;01mreturn\u001b[39;00m merge(\n\u001b[0;32m  10407\u001b[0m             \u001b[38;5;28mself\u001b[39m,\n\u001b[0;32m  10408\u001b[0m             other,\n\u001b[1;32m   (...)\u001b[0m\n\u001b[0;32m  10413\u001b[0m             validate\u001b[38;5;241m=\u001b[39mvalidate,\n\u001b[0;32m  10414\u001b[0m         )\n\u001b[1;32m> 10415\u001b[0m     \u001b[38;5;28;01mreturn\u001b[39;00m merge(\n\u001b[0;32m  10416\u001b[0m         \u001b[38;5;28mself\u001b[39m,\n\u001b[0;32m  10417\u001b[0m         other,\n\u001b[0;32m  10418\u001b[0m         left_on\u001b[38;5;241m=\u001b[39mon,\n\u001b[0;32m  10419\u001b[0m         how\u001b[38;5;241m=\u001b[39mhow,\n\u001b[0;32m  10420\u001b[0m         left_index\u001b[38;5;241m=\u001b[39mon \u001b[38;5;129;01mis\u001b[39;00m \u001b[38;5;28;01mNone\u001b[39;00m,\n\u001b[0;32m  10421\u001b[0m         right_index\u001b[38;5;241m=\u001b[39m\u001b[38;5;28;01mTrue\u001b[39;00m,\n\u001b[0;32m  10422\u001b[0m         suffixes\u001b[38;5;241m=\u001b[39m(lsuffix, rsuffix),\n\u001b[0;32m  10423\u001b[0m         sort\u001b[38;5;241m=\u001b[39msort,\n\u001b[0;32m  10424\u001b[0m         validate\u001b[38;5;241m=\u001b[39mvalidate,\n\u001b[0;32m  10425\u001b[0m     )\n\u001b[0;32m  10426\u001b[0m \u001b[38;5;28;01melse\u001b[39;00m:\n\u001b[0;32m  10427\u001b[0m     \u001b[38;5;28;01mif\u001b[39;00m on \u001b[38;5;129;01mis\u001b[39;00m \u001b[38;5;129;01mnot\u001b[39;00m \u001b[38;5;28;01mNone\u001b[39;00m:\n",
      "File \u001b[1;32mc:\\MyPrograms\\miniconda3\\envs\\fundos\\Lib\\site-packages\\pandas\\core\\reshape\\merge.py:183\u001b[0m, in \u001b[0;36mmerge\u001b[1;34m(left, right, how, on, left_on, right_on, left_index, right_index, sort, suffixes, copy, indicator, validate)\u001b[0m\n\u001b[0;32m    168\u001b[0m \u001b[38;5;28;01melse\u001b[39;00m:\n\u001b[0;32m    169\u001b[0m     op \u001b[38;5;241m=\u001b[39m _MergeOperation(\n\u001b[0;32m    170\u001b[0m         left_df,\n\u001b[0;32m    171\u001b[0m         right_df,\n\u001b[1;32m   (...)\u001b[0m\n\u001b[0;32m    181\u001b[0m         validate\u001b[38;5;241m=\u001b[39mvalidate,\n\u001b[0;32m    182\u001b[0m     )\n\u001b[1;32m--> 183\u001b[0m     \u001b[38;5;28;01mreturn\u001b[39;00m op\u001b[38;5;241m.\u001b[39mget_result(copy\u001b[38;5;241m=\u001b[39mcopy)\n",
      "File \u001b[1;32mc:\\MyPrograms\\miniconda3\\envs\\fundos\\Lib\\site-packages\\pandas\\core\\reshape\\merge.py:885\u001b[0m, in \u001b[0;36m_MergeOperation.get_result\u001b[1;34m(self, copy)\u001b[0m\n\u001b[0;32m    881\u001b[0m     \u001b[38;5;28mself\u001b[39m\u001b[38;5;241m.\u001b[39mleft, \u001b[38;5;28mself\u001b[39m\u001b[38;5;241m.\u001b[39mright \u001b[38;5;241m=\u001b[39m \u001b[38;5;28mself\u001b[39m\u001b[38;5;241m.\u001b[39m_indicator_pre_merge(\u001b[38;5;28mself\u001b[39m\u001b[38;5;241m.\u001b[39mleft, \u001b[38;5;28mself\u001b[39m\u001b[38;5;241m.\u001b[39mright)\n\u001b[0;32m    883\u001b[0m join_index, left_indexer, right_indexer \u001b[38;5;241m=\u001b[39m \u001b[38;5;28mself\u001b[39m\u001b[38;5;241m.\u001b[39m_get_join_info()\n\u001b[1;32m--> 885\u001b[0m result \u001b[38;5;241m=\u001b[39m \u001b[38;5;28mself\u001b[39m\u001b[38;5;241m.\u001b[39m_reindex_and_concat(\n\u001b[0;32m    886\u001b[0m     join_index, left_indexer, right_indexer, copy\u001b[38;5;241m=\u001b[39mcopy\n\u001b[0;32m    887\u001b[0m )\n\u001b[0;32m    888\u001b[0m result \u001b[38;5;241m=\u001b[39m result\u001b[38;5;241m.\u001b[39m__finalize__(\u001b[38;5;28mself\u001b[39m, method\u001b[38;5;241m=\u001b[39m\u001b[38;5;28mself\u001b[39m\u001b[38;5;241m.\u001b[39m_merge_type)\n\u001b[0;32m    890\u001b[0m \u001b[38;5;28;01mif\u001b[39;00m \u001b[38;5;28mself\u001b[39m\u001b[38;5;241m.\u001b[39mindicator:\n",
      "File \u001b[1;32mc:\\MyPrograms\\miniconda3\\envs\\fundos\\Lib\\site-packages\\pandas\\core\\reshape\\merge.py:837\u001b[0m, in \u001b[0;36m_MergeOperation._reindex_and_concat\u001b[1;34m(self, join_index, left_indexer, right_indexer, copy)\u001b[0m\n\u001b[0;32m    834\u001b[0m left \u001b[38;5;241m=\u001b[39m \u001b[38;5;28mself\u001b[39m\u001b[38;5;241m.\u001b[39mleft[:]\n\u001b[0;32m    835\u001b[0m right \u001b[38;5;241m=\u001b[39m \u001b[38;5;28mself\u001b[39m\u001b[38;5;241m.\u001b[39mright[:]\n\u001b[1;32m--> 837\u001b[0m llabels, rlabels \u001b[38;5;241m=\u001b[39m _items_overlap_with_suffix(\n\u001b[0;32m    838\u001b[0m     \u001b[38;5;28mself\u001b[39m\u001b[38;5;241m.\u001b[39mleft\u001b[38;5;241m.\u001b[39m_info_axis, \u001b[38;5;28mself\u001b[39m\u001b[38;5;241m.\u001b[39mright\u001b[38;5;241m.\u001b[39m_info_axis, \u001b[38;5;28mself\u001b[39m\u001b[38;5;241m.\u001b[39msuffixes\n\u001b[0;32m    839\u001b[0m )\n\u001b[0;32m    841\u001b[0m \u001b[38;5;28;01mif\u001b[39;00m left_indexer \u001b[38;5;129;01mis\u001b[39;00m \u001b[38;5;129;01mnot\u001b[39;00m \u001b[38;5;28;01mNone\u001b[39;00m \u001b[38;5;129;01mand\u001b[39;00m \u001b[38;5;129;01mnot\u001b[39;00m is_range_indexer(left_indexer, \u001b[38;5;28mlen\u001b[39m(left)):\n\u001b[0;32m    842\u001b[0m     \u001b[38;5;66;03m# Pinning the index here (and in the right code just below) is not\u001b[39;00m\n\u001b[0;32m    843\u001b[0m     \u001b[38;5;66;03m#  necessary, but makes the `.take` more performant if we have e.g.\u001b[39;00m\n\u001b[0;32m    844\u001b[0m     \u001b[38;5;66;03m#  a MultiIndex for left.index.\u001b[39;00m\n\u001b[0;32m    845\u001b[0m     lmgr \u001b[38;5;241m=\u001b[39m left\u001b[38;5;241m.\u001b[39m_mgr\u001b[38;5;241m.\u001b[39mreindex_indexer(\n\u001b[0;32m    846\u001b[0m         join_index,\n\u001b[0;32m    847\u001b[0m         left_indexer,\n\u001b[1;32m   (...)\u001b[0m\n\u001b[0;32m    852\u001b[0m         use_na_proxy\u001b[38;5;241m=\u001b[39m\u001b[38;5;28;01mTrue\u001b[39;00m,\n\u001b[0;32m    853\u001b[0m     )\n",
      "File \u001b[1;32mc:\\MyPrograms\\miniconda3\\envs\\fundos\\Lib\\site-packages\\pandas\\core\\reshape\\merge.py:2655\u001b[0m, in \u001b[0;36m_items_overlap_with_suffix\u001b[1;34m(left, right, suffixes)\u001b[0m\n\u001b[0;32m   2652\u001b[0m lsuffix, rsuffix \u001b[38;5;241m=\u001b[39m suffixes\n\u001b[0;32m   2654\u001b[0m \u001b[38;5;28;01mif\u001b[39;00m \u001b[38;5;129;01mnot\u001b[39;00m lsuffix \u001b[38;5;129;01mand\u001b[39;00m \u001b[38;5;129;01mnot\u001b[39;00m rsuffix:\n\u001b[1;32m-> 2655\u001b[0m     \u001b[38;5;28;01mraise\u001b[39;00m \u001b[38;5;167;01mValueError\u001b[39;00m(\u001b[38;5;124mf\u001b[39m\u001b[38;5;124m\"\u001b[39m\u001b[38;5;124mcolumns overlap but no suffix specified: \u001b[39m\u001b[38;5;132;01m{\u001b[39;00mto_rename\u001b[38;5;132;01m}\u001b[39;00m\u001b[38;5;124m\"\u001b[39m)\n\u001b[0;32m   2657\u001b[0m \u001b[38;5;28;01mdef\u001b[39;00m \u001b[38;5;21mrenamer\u001b[39m(x, suffix: \u001b[38;5;28mstr\u001b[39m \u001b[38;5;241m|\u001b[39m \u001b[38;5;28;01mNone\u001b[39;00m):\n\u001b[0;32m   2658\u001b[0m \u001b[38;5;250m    \u001b[39m\u001b[38;5;124;03m\"\"\"\u001b[39;00m\n\u001b[0;32m   2659\u001b[0m \u001b[38;5;124;03m    Rename the left and right indices.\u001b[39;00m\n\u001b[0;32m   2660\u001b[0m \n\u001b[1;32m   (...)\u001b[0m\n\u001b[0;32m   2671\u001b[0m \u001b[38;5;124;03m    x : renamed column name\u001b[39;00m\n\u001b[0;32m   2672\u001b[0m \u001b[38;5;124;03m    \"\"\"\u001b[39;00m\n",
      "\u001b[1;31mValueError\u001b[0m: columns overlap but no suffix specified: Index(['strategy3'], dtype='object')"
     ]
    }
   ],
   "source": [
    "current_date = valid_date(d=quotes_start_date)\n",
    "new_date = next_date(current_date)\n",
    "value_lst = [(current_date,initial_amount)]\n",
    "df_prtf = df_portofolio\n",
    "\n",
    "while new_date < df_quotes.index.max():\n",
    "    print(current_date)\n",
    "    df_prtf = strategy_step(df_portofolio=df_prtf,current_date=current_date,fn_selection=fund_selection_1, last_n=42,new_date=new_date,ef_fn=my_ef_2)\n",
    "    value_lst.append((new_date,df_prtf.sum()))\n",
    "    current_date = new_date\n",
    "    new_date = next_date(current_date)\n",
    "\n",
    "results_df = results_df.join(pd.DataFrame(data=value_lst,columns=['date','strategy3']).set_index('date'))\n",
    "results_df.plot()"
   ]
  },
  {
   "cell_type": "code",
   "execution_count": 29,
   "metadata": {},
   "outputs": [
    {
     "data": {
      "text/plain": [
       "[(datetime.date(2024, 3, 1), 100),\n",
       " (datetime.date(2024, 3, 8), 100.38402103250768),\n",
       " (datetime.date(2024, 3, 15), 100.6969623721418),\n",
       " (datetime.date(2024, 3, 22), 101.11308312283623),\n",
       " (datetime.date(2024, 3, 29), 101.40080184034254),\n",
       " (datetime.date(2024, 4, 5), 101.73584788403276),\n",
       " (datetime.date(2024, 4, 12), 101.87430299236034),\n",
       " (datetime.date(2024, 4, 19), 101.69533334075695),\n",
       " (datetime.date(2024, 4, 26), 102.06492482195672),\n",
       " (datetime.date(2024, 5, 3), 102.11463896114442)]"
      ]
     },
     "execution_count": 29,
     "metadata": {},
     "output_type": "execute_result"
    }
   ],
   "source": [
    "value_lst"
   ]
  },
  {
   "cell_type": "code",
   "execution_count": 30,
   "metadata": {},
   "outputs": [
    {
     "data": {
      "text/html": [
       "<div>\n",
       "<style scoped>\n",
       "    .dataframe tbody tr th:only-of-type {\n",
       "        vertical-align: middle;\n",
       "    }\n",
       "\n",
       "    .dataframe tbody tr th {\n",
       "        vertical-align: top;\n",
       "    }\n",
       "\n",
       "    .dataframe thead th {\n",
       "        text-align: right;\n",
       "    }\n",
       "</style>\n",
       "<table border=\"1\" class=\"dataframe\">\n",
       "  <thead>\n",
       "    <tr style=\"text-align: right;\">\n",
       "      <th></th>\n",
       "      <th>strategy1</th>\n",
       "      <th>strategy2</th>\n",
       "      <th>strategy3</th>\n",
       "      <th>strategy4</th>\n",
       "    </tr>\n",
       "    <tr>\n",
       "      <th>date</th>\n",
       "      <th></th>\n",
       "      <th></th>\n",
       "      <th></th>\n",
       "      <th></th>\n",
       "    </tr>\n",
       "  </thead>\n",
       "  <tbody>\n",
       "    <tr>\n",
       "      <th>2024-03-01</th>\n",
       "      <td>100.000000</td>\n",
       "      <td>100.000000</td>\n",
       "      <td>100.000000</td>\n",
       "      <td>100.000000</td>\n",
       "    </tr>\n",
       "    <tr>\n",
       "      <th>2024-03-08</th>\n",
       "      <td>100.357832</td>\n",
       "      <td>100.365932</td>\n",
       "      <td>100.364173</td>\n",
       "      <td>100.432069</td>\n",
       "    </tr>\n",
       "    <tr>\n",
       "      <th>2024-03-15</th>\n",
       "      <td>100.758330</td>\n",
       "      <td>100.828747</td>\n",
       "      <td>100.612383</td>\n",
       "      <td>100.938200</td>\n",
       "    </tr>\n",
       "    <tr>\n",
       "      <th>2024-03-22</th>\n",
       "      <td>101.241804</td>\n",
       "      <td>101.242499</td>\n",
       "      <td>101.045866</td>\n",
       "      <td>101.471806</td>\n",
       "    </tr>\n",
       "    <tr>\n",
       "      <th>2024-03-29</th>\n",
       "      <td>101.389129</td>\n",
       "      <td>101.414236</td>\n",
       "      <td>101.363008</td>\n",
       "      <td>101.687745</td>\n",
       "    </tr>\n",
       "    <tr>\n",
       "      <th>2024-04-05</th>\n",
       "      <td>101.607364</td>\n",
       "      <td>101.594548</td>\n",
       "      <td>101.769199</td>\n",
       "      <td>102.034148</td>\n",
       "    </tr>\n",
       "    <tr>\n",
       "      <th>2024-04-12</th>\n",
       "      <td>101.543701</td>\n",
       "      <td>101.607335</td>\n",
       "      <td>102.036213</td>\n",
       "      <td>102.261133</td>\n",
       "    </tr>\n",
       "    <tr>\n",
       "      <th>2024-04-19</th>\n",
       "      <td>101.616737</td>\n",
       "      <td>101.746186</td>\n",
       "      <td>101.800593</td>\n",
       "      <td>102.226825</td>\n",
       "    </tr>\n",
       "    <tr>\n",
       "      <th>2024-04-26</th>\n",
       "      <td>101.863883</td>\n",
       "      <td>101.898631</td>\n",
       "      <td>102.236167</td>\n",
       "      <td>102.394944</td>\n",
       "    </tr>\n",
       "    <tr>\n",
       "      <th>2024-05-03</th>\n",
       "      <td>102.202772</td>\n",
       "      <td>101.819808</td>\n",
       "      <td>102.269734</td>\n",
       "      <td>101.962136</td>\n",
       "    </tr>\n",
       "  </tbody>\n",
       "</table>\n",
       "</div>"
      ],
      "text/plain": [
       "             strategy1   strategy2   strategy3   strategy4\n",
       "date                                                      \n",
       "2024-03-01  100.000000  100.000000  100.000000  100.000000\n",
       "2024-03-08  100.357832  100.365932  100.364173  100.432069\n",
       "2024-03-15  100.758330  100.828747  100.612383  100.938200\n",
       "2024-03-22  101.241804  101.242499  101.045866  101.471806\n",
       "2024-03-29  101.389129  101.414236  101.363008  101.687745\n",
       "2024-04-05  101.607364  101.594548  101.769199  102.034148\n",
       "2024-04-12  101.543701  101.607335  102.036213  102.261133\n",
       "2024-04-19  101.616737  101.746186  101.800593  102.226825\n",
       "2024-04-26  101.863883  101.898631  102.236167  102.394944\n",
       "2024-05-03  102.202772  101.819808  102.269734  101.962136"
      ]
     },
     "execution_count": 30,
     "metadata": {},
     "output_type": "execute_result"
    }
   ],
   "source": [
    "results_df"
   ]
  },
  {
   "cell_type": "code",
   "execution_count": 7,
   "metadata": {},
   "outputs": [
    {
     "name": "stdout",
     "output_type": "stream",
     "text": [
      "2024-03-01\n"
     ]
    },
    {
     "name": "stdout",
     "output_type": "stream",
     "text": [
      "2024-03-08\n",
      "2024-03-15\n",
      "2024-03-22\n",
      "2024-03-29\n",
      "2024-04-05\n",
      "2024-04-12\n",
      "2024-04-19\n",
      "2024-04-26\n",
      "2024-03-01\n",
      "2024-03-08\n",
      "2024-03-15\n",
      "2024-03-22\n",
      "2024-03-29\n",
      "2024-04-05\n",
      "2024-04-12\n",
      "2024-04-19\n",
      "2024-04-26\n",
      "2024-03-01\n",
      "2024-03-08\n"
     ]
    },
    {
     "ename": "OptimizationError",
     "evalue": "('Please check your objectives/constraints or use a different solver.', 'Solver status: infeasible')",
     "output_type": "error",
     "traceback": [
      "\u001b[1;31m---------------------------------------------------------------------------\u001b[0m",
      "\u001b[1;31mOptimizationError\u001b[0m                         Traceback (most recent call last)",
      "Cell \u001b[1;32mIn[7], line 11\u001b[0m\n\u001b[0;32m      9\u001b[0m \u001b[38;5;28;01mwhile\u001b[39;00m new_date \u001b[38;5;241m<\u001b[39m df_quotes\u001b[38;5;241m.\u001b[39mindex\u001b[38;5;241m.\u001b[39mmax():\n\u001b[0;32m     10\u001b[0m     \u001b[38;5;28mprint\u001b[39m(current_date)\n\u001b[1;32m---> 11\u001b[0m     df_prtf \u001b[38;5;241m=\u001b[39m strategy_step(df_portofolio\u001b[38;5;241m=\u001b[39mdf_prtf,current_date\u001b[38;5;241m=\u001b[39mcurrent_date,fn_selection\u001b[38;5;241m=\u001b[39mfund_selection_1, last_n\u001b[38;5;241m=\u001b[39mlast_n,new_date\u001b[38;5;241m=\u001b[39mnew_date, ef_fn\u001b[38;5;241m=\u001b[39mmy_ef)\n\u001b[0;32m     12\u001b[0m     value_lst\u001b[38;5;241m.\u001b[39mappend((new_date,df_prtf\u001b[38;5;241m.\u001b[39msum()))\n\u001b[0;32m     13\u001b[0m     current_date \u001b[38;5;241m=\u001b[39m new_date\n",
      "Cell \u001b[1;32mIn[5], line 156\u001b[0m, in \u001b[0;36mstrategy_step\u001b[1;34m(df_portofolio, current_date, fn_selection, last_n, new_date, ef_fn)\u001b[0m\n\u001b[0;32m    154\u001b[0m buy_final_w \u001b[38;5;241m=\u001b[39m (\u001b[38;5;28msum\u001b[39m([w_i \u001b[38;5;28;01mfor\u001b[39;00m _,w_i \u001b[38;5;129;01min\u001b[39;00m buy_list])\u001b[38;5;241m*\u001b[39minitial_amount \u001b[38;5;241m+\u001b[39m amount_to_buy) \u001b[38;5;241m/\u001b[39m final_portfolio_amount\n\u001b[0;32m    155\u001b[0m ef\u001b[38;5;241m.\u001b[39madd_constraint(\u001b[38;5;28;01mlambda\u001b[39;00m x : \u001b[38;5;28msum\u001b[39m([x[i] \u001b[38;5;28;01mfor\u001b[39;00m i,_ \u001b[38;5;129;01min\u001b[39;00m buy_list]) \u001b[38;5;241m==\u001b[39m buy_final_w)\n\u001b[1;32m--> 156\u001b[0m ef\u001b[38;5;241m.\u001b[39mmax_sharpe(risk_free_rate\u001b[38;5;241m=\u001b[39mrisk_free_rate)\n\u001b[0;32m    158\u001b[0m df \u001b[38;5;241m=\u001b[39m portfolio_strategy(dfi\u001b[38;5;241m=\u001b[39mdfi,ef\u001b[38;5;241m=\u001b[39mef)\u001b[38;5;241m.\u001b[39mset_index(\u001b[38;5;124m'\u001b[39m\u001b[38;5;124mCode\u001b[39m\u001b[38;5;124m'\u001b[39m)\n\u001b[0;32m    159\u001b[0m df[\u001b[38;5;124m'\u001b[39m\u001b[38;5;124mw_o\u001b[39m\u001b[38;5;124m'\u001b[39m] \u001b[38;5;241m=\u001b[39m df\u001b[38;5;241m.\u001b[39mapply(\u001b[38;5;28;01mlambda\u001b[39;00m x: x[\u001b[38;5;124m'\u001b[39m\u001b[38;5;124mw_i\u001b[39m\u001b[38;5;124m'\u001b[39m] \u001b[38;5;28;01mif\u001b[39;00m \u001b[38;5;28mabs\u001b[39m(x[\u001b[38;5;124m'\u001b[39m\u001b[38;5;124mchange_amount\u001b[39m\u001b[38;5;124m'\u001b[39m])\u001b[38;5;241m<\u001b[39mtransaction_limit \u001b[38;5;28;01melse\u001b[39;00m x[\u001b[38;5;124m'\u001b[39m\u001b[38;5;124mw_o\u001b[39m\u001b[38;5;124m'\u001b[39m], axis \u001b[38;5;241m=\u001b[39m \u001b[38;5;241m1\u001b[39m)\n",
      "File \u001b[1;32mc:\\MyPrograms\\miniconda3\\envs\\fundos\\Lib\\site-packages\\pypfopt\\efficient_frontier\\efficient_frontier.py:290\u001b[0m, in \u001b[0;36mEfficientFrontier.max_sharpe\u001b[1;34m(self, risk_free_rate)\u001b[0m\n\u001b[0;32m    283\u001b[0m \u001b[38;5;66;03m# Transformed max_sharpe convex problem:\u001b[39;00m\n\u001b[0;32m    284\u001b[0m \u001b[38;5;28mself\u001b[39m\u001b[38;5;241m.\u001b[39m_constraints \u001b[38;5;241m=\u001b[39m [\n\u001b[0;32m    285\u001b[0m     (\u001b[38;5;28mself\u001b[39m\u001b[38;5;241m.\u001b[39mexpected_returns \u001b[38;5;241m-\u001b[39m risk_free_rate)\u001b[38;5;241m.\u001b[39mT \u001b[38;5;241m@\u001b[39m \u001b[38;5;28mself\u001b[39m\u001b[38;5;241m.\u001b[39m_w \u001b[38;5;241m==\u001b[39m \u001b[38;5;241m1\u001b[39m,\n\u001b[0;32m    286\u001b[0m     cp\u001b[38;5;241m.\u001b[39msum(\u001b[38;5;28mself\u001b[39m\u001b[38;5;241m.\u001b[39m_w) \u001b[38;5;241m==\u001b[39m k,\n\u001b[0;32m    287\u001b[0m     k \u001b[38;5;241m>\u001b[39m\u001b[38;5;241m=\u001b[39m \u001b[38;5;241m0\u001b[39m,\n\u001b[0;32m    288\u001b[0m ] \u001b[38;5;241m+\u001b[39m new_constraints\n\u001b[1;32m--> 290\u001b[0m \u001b[38;5;28mself\u001b[39m\u001b[38;5;241m.\u001b[39m_solve_cvxpy_opt_problem()\n\u001b[0;32m    291\u001b[0m \u001b[38;5;66;03m# Inverse-transform\u001b[39;00m\n\u001b[0;32m    292\u001b[0m \u001b[38;5;28mself\u001b[39m\u001b[38;5;241m.\u001b[39mweights \u001b[38;5;241m=\u001b[39m (\u001b[38;5;28mself\u001b[39m\u001b[38;5;241m.\u001b[39m_w\u001b[38;5;241m.\u001b[39mvalue \u001b[38;5;241m/\u001b[39m k\u001b[38;5;241m.\u001b[39mvalue)\u001b[38;5;241m.\u001b[39mround(\u001b[38;5;241m16\u001b[39m) \u001b[38;5;241m+\u001b[39m \u001b[38;5;241m0.0\u001b[39m\n",
      "File \u001b[1;32mc:\\MyPrograms\\miniconda3\\envs\\fundos\\Lib\\site-packages\\pypfopt\\base_optimizer.py:313\u001b[0m, in \u001b[0;36mBaseConvexOptimizer._solve_cvxpy_opt_problem\u001b[1;34m(self)\u001b[0m\n\u001b[0;32m    310\u001b[0m     \u001b[38;5;28;01mraise\u001b[39;00m exceptions\u001b[38;5;241m.\u001b[39mOptimizationError \u001b[38;5;28;01mfrom\u001b[39;00m \u001b[38;5;21;01me\u001b[39;00m\n\u001b[0;32m    312\u001b[0m \u001b[38;5;28;01mif\u001b[39;00m \u001b[38;5;28mself\u001b[39m\u001b[38;5;241m.\u001b[39m_opt\u001b[38;5;241m.\u001b[39mstatus \u001b[38;5;129;01mnot\u001b[39;00m \u001b[38;5;129;01min\u001b[39;00m {\u001b[38;5;124m\"\u001b[39m\u001b[38;5;124moptimal\u001b[39m\u001b[38;5;124m\"\u001b[39m, \u001b[38;5;124m\"\u001b[39m\u001b[38;5;124moptimal_inaccurate\u001b[39m\u001b[38;5;124m\"\u001b[39m}:\n\u001b[1;32m--> 313\u001b[0m     \u001b[38;5;28;01mraise\u001b[39;00m exceptions\u001b[38;5;241m.\u001b[39mOptimizationError(\n\u001b[0;32m    314\u001b[0m         \u001b[38;5;124m\"\u001b[39m\u001b[38;5;124mSolver status: \u001b[39m\u001b[38;5;132;01m{}\u001b[39;00m\u001b[38;5;124m\"\u001b[39m\u001b[38;5;241m.\u001b[39mformat(\u001b[38;5;28mself\u001b[39m\u001b[38;5;241m.\u001b[39m_opt\u001b[38;5;241m.\u001b[39mstatus)\n\u001b[0;32m    315\u001b[0m     )\n\u001b[0;32m    316\u001b[0m \u001b[38;5;28mself\u001b[39m\u001b[38;5;241m.\u001b[39mweights \u001b[38;5;241m=\u001b[39m \u001b[38;5;28mself\u001b[39m\u001b[38;5;241m.\u001b[39m_w\u001b[38;5;241m.\u001b[39mvalue\u001b[38;5;241m.\u001b[39mround(\u001b[38;5;241m16\u001b[39m) \u001b[38;5;241m+\u001b[39m \u001b[38;5;241m0.0\u001b[39m  \u001b[38;5;66;03m# +0.0 removes signed zero\u001b[39;00m\n\u001b[0;32m    317\u001b[0m \u001b[38;5;28;01mreturn\u001b[39;00m \u001b[38;5;28mself\u001b[39m\u001b[38;5;241m.\u001b[39m_make_output_weights()\n",
      "\u001b[1;31mOptimizationError\u001b[0m: ('Please check your objectives/constraints or use a different solver.', 'Solver status: infeasible')"
     ]
    }
   ],
   "source": [
    "results = []\n",
    "\n",
    "for last_n in [18,21,25]:\n",
    "    current_date = valid_date(d=quotes_start_date)\n",
    "    new_date = next_date(current_date)\n",
    "    value_lst = [(current_date,initial_amount)]\n",
    "    df_prtf = df_portofolio\n",
    "\n",
    "    while new_date < df_quotes.index.max():\n",
    "        print(current_date)\n",
    "        df_prtf = strategy_step(df_portofolio=df_prtf,current_date=current_date,fn_selection=fund_selection_1, last_n=last_n,new_date=new_date, ef_fn=my_ef)\n",
    "        value_lst.append((new_date,df_prtf.sum()))\n",
    "        current_date = new_date\n",
    "        new_date = next_date(current_date)\n",
    "\n",
    "    results.append(pd.DataFrame(data=value_lst,columns=['date','strategy '+str(last_n)]).set_index('date'))\n",
    "\n",
    "results"
   ]
  },
  {
   "cell_type": "code",
   "execution_count": 9,
   "metadata": {},
   "outputs": [
    {
     "data": {
      "text/plain": [
       "IE00BLP5S460    0.006623\n",
       "LU0235843108    0.000823\n",
       "LU0319687124   -0.005494\n",
       "LU0329070915    0.006769\n",
       "LU0348927251    0.046805\n",
       "LU0390137973    0.047342\n",
       "LU0414665884    0.023473\n",
       "LU0594300096    0.036896\n",
       "LU0627762007    0.003057\n",
       "LU0627762692    0.003935\n",
       "LU0705071453    0.017421\n",
       "LU0835721084    0.036052\n",
       "LU0875418195    0.024306\n",
       "LU1244139660    0.019142\n",
       "LU1508158513   -0.004931\n",
       "LU1728556959    0.019146\n",
       "LU1883334275    0.008665\n",
       "LU1897414303    0.062019\n",
       "LU1915690918    0.007117\n",
       "dtype: float64"
      ]
     },
     "execution_count": 9,
     "metadata": {},
     "output_type": "execute_result"
    }
   ],
   "source": [
    "def my_mean_historical_return(fund_list, current_date):\n",
    "    return df_quotes[fund_list].loc[current_date] / df_quotes[fund_list].loc[valid_date(current_date - timedelta(days=21))] -1\n",
    "\n",
    "my_mean_historical_return(df_portofolio.index, valid_date(d=quotes_start_date))"
   ]
  },
  {
   "cell_type": "code",
   "execution_count": 10,
   "metadata": {},
   "outputs": [
    {
     "data": {
      "text/plain": [
       "IE00BLP5S460    0.115661\n",
       "LU0235843108    0.027854\n",
       "LU0319687124   -0.142826\n",
       "LU0329070915    0.214506\n",
       "LU0348927251   -0.166190\n",
       "LU0390137973   -0.103316\n",
       "LU0414665884   -0.255364\n",
       "LU0594300096    6.562459\n",
       "LU0627762007    0.072101\n",
       "LU0627762692    0.088445\n",
       "LU0705071453    0.200962\n",
       "LU0835721084    0.748696\n",
       "LU0875418195   -0.122209\n",
       "LU1244139660   -0.361817\n",
       "LU1508158513    0.196743\n",
       "LU1728556959    0.049171\n",
       "LU1883334275    0.021744\n",
       "LU1897414303    1.127333\n",
       "LU1915690918   -0.098423\n",
       "dtype: float64"
      ]
     },
     "execution_count": 10,
     "metadata": {},
     "output_type": "execute_result"
    }
   ],
   "source": [
    "prices = df_quotes[df_portofolio.index].loc[valid_date(current_date - timedelta(days=21)):current_date]\n",
    "returns = prices.pct_change().dropna(how=\"all\")\n",
    "(1 + returns).prod() ** (252 / returns.count()) - 1"
   ]
  },
  {
   "cell_type": "code",
   "execution_count": 11,
   "metadata": {},
   "outputs": [
    {
     "data": {
      "text/plain": [
       "IE00BLP5S460    0.117274\n",
       "LU0235843108    0.013919\n",
       "LU0319687124   -0.088399\n",
       "LU0329070915    0.120013\n",
       "LU0348927251    1.156491\n",
       "LU0390137973    1.175135\n",
       "LU0414665884    0.476661\n",
       "LU0594300096    0.838015\n",
       "LU0627762007    0.052618\n",
       "LU0627762692    0.068198\n",
       "LU0705071453    0.336629\n",
       "LU0835721084    0.813053\n",
       "LU0875418195    0.496980\n",
       "LU1244139660    0.375131\n",
       "LU1508158513   -0.079689\n",
       "LU1728556959    0.375214\n",
       "LU1883334275    0.155980\n",
       "LU1897414303    1.748028\n",
       "LU1915690918    0.126538\n",
       "dtype: float64"
      ]
     },
     "execution_count": 11,
     "metadata": {},
     "output_type": "execute_result"
    }
   ],
   "source": [
    "current_date = valid_date(d=quotes_start_date)\n",
    "new_date = next_date(current_date)\n",
    "value_lst = [(current_date,initial_amount)]\n",
    "df_prtf = df_portofolio\n",
    "\n",
    "mean_historical_return(df_quotes[df_portofolio.index].loc[valid_date(current_date - timedelta(days=21)):current_date])\n"
   ]
  },
  {
   "cell_type": "code",
   "execution_count": 12,
   "metadata": {},
   "outputs": [
    {
     "data": {
      "text/plain": [
       "IE00BLP5S460    0.128157\n",
       "LU0235843108    0.012119\n",
       "LU0319687124   -0.093490\n",
       "LU0329070915    0.106069\n",
       "LU0348927251    1.182401\n",
       "LU0390137973    1.155998\n",
       "LU0414665884    0.488749\n",
       "LU0594300096    0.758535\n",
       "LU0627762007    0.044015\n",
       "LU0627762692    0.059874\n",
       "LU0705071453    0.344190\n",
       "LU0835721084    0.796056\n",
       "LU0875418195    0.525393\n",
       "LU1244139660    0.499027\n",
       "LU1508158513   -0.082981\n",
       "LU1728556959    0.376504\n",
       "LU1883334275    0.152431\n",
       "LU1897414303    1.778150\n",
       "LU1915690918    0.108636\n",
       "Name: 2024-03-01, dtype: float64"
      ]
     },
     "execution_count": 12,
     "metadata": {},
     "output_type": "execute_result"
    }
   ],
   "source": [
    "ema_historical_return(df_quotes[df_portofolio.index].loc[valid_date(current_date - timedelta(days=21)):current_date],span=120)\n"
   ]
  }
 ],
 "metadata": {
  "kernelspec": {
   "display_name": "fundos",
   "language": "python",
   "name": "python3"
  },
  "language_info": {
   "codemirror_mode": {
    "name": "ipython",
    "version": 3
   },
   "file_extension": ".py",
   "mimetype": "text/x-python",
   "name": "python",
   "nbconvert_exporter": "python",
   "pygments_lexer": "ipython3",
   "version": "undefined.undefined.undefined"
  }
 },
 "nbformat": 4,
 "nbformat_minor": 2
}
